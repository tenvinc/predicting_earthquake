{
 "cells": [
  {
   "cell_type": "markdown",
   "metadata": {
    "colab_type": "text",
    "id": "KADvsNBD7kzV"
   },
   "source": [
    "# Random Forest"
   ]
  },
  {
   "cell_type": "code",
   "execution_count": null,
   "metadata": {
    "colab": {
     "base_uri": "https://localhost:8080/",
     "height": 122
    },
    "colab_type": "code",
    "executionInfo": {
     "elapsed": 23745,
     "status": "ok",
     "timestamp": 1570675549898,
     "user": {
      "displayName": "Vincent Neo",
      "photoUrl": "",
      "userId": "11314201688920206980"
     },
     "user_tz": -480
    },
    "id": "BPNCVH-l3FW1",
    "outputId": "330b6b10-644e-4c4e-c689-8caf10493128"
   },
   "outputs": [],
   "source": [
    "import os\n",
    "import math\n",
    "import pandas as pd\n",
    "from joblib import dump, load\n",
    "import numpy as np\n",
    "import seaborn as sns\n",
    "import matplotlib.pyplot as plt"
   ]
  },
  {
   "cell_type": "code",
   "execution_count": null,
   "metadata": {},
   "outputs": [],
   "source": [
    "ROOT_PATH = \".\""
   ]
  },
  {
   "cell_type": "markdown",
   "metadata": {},
   "source": [
    "## Read in dataset"
   ]
  },
  {
   "cell_type": "code",
   "execution_count": null,
   "metadata": {},
   "outputs": [],
   "source": [
    "X_train = pd.read_csv(os.path.join(ROOT_PATH, \"data\", \"split_train_values.csv\"))\n",
    "y_train = pd.read_csv(os.path.join(ROOT_PATH, \"data\", \"split_train_labels.csv\"))\n",
    "X_test = pd.read_csv(os.path.join(ROOT_PATH, \"data\", \"split_test_values.csv\"))\n",
    "y_test = pd.read_csv(os.path.join(ROOT_PATH, \"data\", \"split_test_labels.csv\"))\n",
    "\n",
    "X_train = pd.get_dummies(X_train)\n",
    "X_test = pd.get_dummies(X_test)\n",
    "\n",
    "display(X_train)"
   ]
  },
  {
   "cell_type": "markdown",
   "metadata": {},
   "source": [
    "## Hyperparameter Tuning"
   ]
  },
  {
   "cell_type": "code",
   "execution_count": null,
   "metadata": {},
   "outputs": [],
   "source": [
    "from sklearn.preprocessing import StandardScaler\n",
    "from sklearn.pipeline import make_pipeline\n",
    "from sklearn.metrics import confusion_matrix, f1_score\n",
    "from sklearn.model_selection import GridSearchCV, RandomizedSearchCV\n",
    "from sklearn.ensemble import RandomForestClassifier"
   ]
  },
  {
   "cell_type": "code",
   "execution_count": null,
   "metadata": {},
   "outputs": [],
   "source": [
    "import sklearn\n",
    "from sklearn.decomposition import PCA\n",
    "from sklearn.preprocessing import StandardScaler, OneHotEncoder\n",
    "from sklearn.svm import SVC, LinearSVC\n",
    "from sklearn.linear_model import SGDClassifier\n",
    "from sklearn.kernel_approximation import Nystroem\n",
    "from sklearn.pipeline import make_pipeline, Pipeline, FeatureUnion\n",
    "from sklearn.metrics import multilabel_confusion_matrix, f1_score, roc_auc_score\n",
    "from sklearn.model_selection import GridSearchCV, KFold, cross_validate, RandomizedSearchCV\n",
    "from sklearn.base import BaseEstimator, TransformerMixin\n",
    "from sklearn.ensemble import GradientBoostingClassifier, RandomForestClassifier\n",
    "import xgboost as xgb"
   ]
  },
  {
   "cell_type": "code",
   "execution_count": null,
   "metadata": {},
   "outputs": [],
   "source": [
    "pipeline = make_pipeline(StandardScaler(), RandomForestClassifier(42))\n",
    "print(pipeline)"
   ]
  },
  {
   "cell_type": "code",
   "execution_count": null,
   "metadata": {},
   "outputs": [],
   "source": [
    "def save_cv(cv_results_, filepath):\n",
    "    cv_results = pd.DataFrame(cv_results_)\n",
    "    cv_results.to_csv(filepath)"
   ]
  },
  {
   "cell_type": "code",
   "execution_count": null,
   "metadata": {},
   "outputs": [],
   "source": [
    "hp_space = {'randomforestclassifier__max_depth': np.arange(30,50),\n",
    "            'randomforestclassifier__min_samples_split': np.linspace(0.1, 1.0, 10, endpoint=True),\n",
    "            'randomforestclassifier__min_samples_leaf': np.arange(1,10),\n",
    "            'randomforestclassifier__max_features': list(range(1,len(X_train.columns))),\n",
    "            'randomforestclassifier__n_estimators': [16, 32, 40, 50, 60, 128]\n",
    "}\n",
    "\n",
    "\n",
    "randcv = RandomizedSearchCV(pipeline, hp_space, cv=5, verbose=2, scoring='f1_micro', n_iter=100, n_jobs=-2)"
   ]
  },
  {
   "cell_type": "code",
   "execution_count": null,
   "metadata": {},
   "outputs": [],
   "source": [
    "randcv.fit(X_train, y_train)"
   ]
  },
  {
   "cell_type": "code",
   "execution_count": null,
   "metadata": {},
   "outputs": [],
   "source": [
    "print(\"Finished training RF with randomized search CV. Saving model...\")\n",
    "print(\"All \")\n",
    "print(\"Best params: {}\".format(randcv.best_params_))\n",
    "print(\"Best Micro F1 score: {}\".format(randcv.best_score_))\n",
    "print(\"Summary of CV_results: {}\".format(randcv.cv_results_.keys()))\n",
    "save_cv(randcv.cv_results_, os.path.join(ROOT_PATH, \"results\", \"rf_rand1.csv\"))"
   ]
  },
  {
   "cell_type": "code",
   "execution_count": null,
   "metadata": {},
   "outputs": [],
   "source": [
    "hp_space2 = {'randomforestclassifier__max_depth': [34, 36, 40],\n",
    "            'randomforestclassifier__min_samples_split': [0.1, 0.2, 0.3],\n",
    "            'randomforestclassifier__min_samples_leaf': [3, 4],\n",
    "            'randomforestclassifier__max_features': [56, 64, 68],\n",
    "            'randomforestclassifier__n_estimators': [60, 128]\n",
    "}\n",
    "\n",
    "gscv1 = GridSearchCV(pipeline, hp_space2, cv=5, scoring='f1_micro', n_jobs=-2, return_train_score=True, verbose=True)"
   ]
  },
  {
   "cell_type": "code",
   "execution_count": null,
   "metadata": {},
   "outputs": [],
   "source": [
    "gscv1.fit(X_train, y_train)"
   ]
  },
  {
   "cell_type": "code",
   "execution_count": null,
   "metadata": {},
   "outputs": [],
   "source": [
    "print(\"Finished training RF with grid search CV. Saving model...\")\n",
    "print(\"All \")\n",
    "print(\"Best params: {}\".format(gscv1.best_params_))\n",
    "print(\"Best Micro F1 score: {}\".format(gscv1.best_score_))\n",
    "print(\"Summary of CV_results: {}\".format(gscv1.cv_results_.keys()))\n",
    "save_cv(gscv1.cv_results_, os.path.join(ROOT_PATH, \"results\", \"rf_grid2.csv\"))"
   ]
  },
  {
   "cell_type": "markdown",
   "metadata": {},
   "source": [
    "## Retraining then storing the model"
   ]
  },
  {
   "cell_type": "code",
   "execution_count": null,
   "metadata": {},
   "outputs": [],
   "source": [
    "rf2 = RandomForestClassifier(max_depth=42, max_features=56, min_samples_leaf=7, min_samples_split=2, \n",
    "                             n_estimators=60, random_state=1000)\n",
    "pipeline = make_pipeline(StandardScaler(), rf2)"
   ]
  },
  {
   "cell_type": "code",
   "execution_count": null,
   "metadata": {},
   "outputs": [],
   "source": [
    "pipeline.fit(X_train, y_train)"
   ]
  },
  {
   "cell_type": "code",
   "execution_count": null,
   "metadata": {},
   "outputs": [],
   "source": [
    "y_pred = pipeline.predict(X_test)\n",
    "print(\"Micro F1-score random forest: {}\".format(f1_score(y_pred, y_test, average='micro')))"
   ]
  },
  {
   "cell_type": "code",
   "execution_count": null,
   "metadata": {},
   "outputs": [],
   "source": [
    "from joblib import dump\n",
    "dump(pipeline, os.path.join(ROOT_PATH,'models', 'rfv2.joblib'))"
   ]
  },
  {
   "cell_type": "code",
   "execution_count": null,
   "metadata": {},
   "outputs": [],
   "source": []
  }
 ],
 "metadata": {
  "colab": {
   "collapsed_sections": [
    "AeLJXFC_U09o"
   ],
   "machine_shape": "hm",
   "name": "vincent_Predicting earthquake damage.ipynb",
   "provenance": []
  },
  "kernelspec": {
   "display_name": "Python 3",
   "language": "python",
   "name": "python3"
  },
  "language_info": {
   "codemirror_mode": {
    "name": "ipython",
    "version": 3
   },
   "file_extension": ".py",
   "mimetype": "text/x-python",
   "name": "python",
   "nbconvert_exporter": "python",
   "pygments_lexer": "ipython3",
   "version": "3.6.8"
  },
  "toc": {
   "base_numbering": 1,
   "nav_menu": {},
   "number_sections": true,
   "sideBar": true,
   "skip_h1_title": false,
   "title_cell": "Table of Contents",
   "title_sidebar": "Contents",
   "toc_cell": false,
   "toc_position": {},
   "toc_section_display": true,
   "toc_window_display": true
  }
 },
 "nbformat": 4,
 "nbformat_minor": 1
}