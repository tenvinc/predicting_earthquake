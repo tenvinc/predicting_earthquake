{
 "cells": [
  {
   "cell_type": "markdown",
   "metadata": {},
   "source": [
    "# Trying out ensemble methods (stacking)"
   ]
  },
  {
   "cell_type": "markdown",
   "metadata": {},
   "source": [
    "Combination of multiple learning models can result in a higher prediction capability compared to any of the models used. This technique is very powerful in Kaggle, to win machine learning competitions and to improve the performance of models significantly. This python notebook uses one of the ensemble methods (stacking) to improve the predictive capability for a machine learning competition on predicting earthquake building damage."
   ]
  },
  {
   "cell_type": "code",
   "execution_count": 2,
   "metadata": {},
   "outputs": [],
   "source": [
    "import os\n",
    "import math\n",
    "import pandas as pd\n",
    "from joblib import dump, load\n",
    "import numpy as np\n",
    "import seaborn as sns\n",
    "import matplotlib.pyplot as plt"
   ]
  },
  {
   "cell_type": "code",
   "execution_count": 3,
   "metadata": {},
   "outputs": [],
   "source": [
    "import sklearn\n",
    "from sklearn.preprocessing import StandardScaler, MinMaxScaler\n",
    "from sklearn.linear_model import LogisticRegression\n",
    "from sklearn.pipeline import make_pipeline\n",
    "from sklearn.metrics import confusion_matrix, f1_score\n",
    "from sklearn.model_selection import GridSearchCV, KFold, cross_validate, cross_val_score\n",
    "from sklearn.base import BaseEstimator, TransformerMixin\n",
    "from sklearn.ensemble import RandomForestClassifier\n",
    "from mlxtend.classifier import StackingCVClassifier\n",
    "import xgboost as xgb\n",
    "from helper import plot_confusion_matrix"
   ]
  },
  {
   "cell_type": "markdown",
   "metadata": {},
   "source": [
    "## Read in and preprocess dataset with feature engineering"
   ]
  },
  {
   "cell_type": "code",
   "execution_count": 5,
   "metadata": {},
   "outputs": [],
   "source": [
    "ROOT_PATH = '.'"
   ]
  },
  {
   "cell_type": "code",
   "execution_count": 6,
   "metadata": {},
   "outputs": [],
   "source": [
    "X_train = pd.read_csv(os.path.join(ROOT_PATH, \"data\", \"split_train_values.csv\"))\n",
    "y_train = pd.read_csv(os.path.join(ROOT_PATH, \"data\", \"split_train_labels.csv\")).iloc[:,0]\n",
    "X_test = pd.read_csv(os.path.join(ROOT_PATH, \"data\", \"split_test_values.csv\"))\n",
    "y_test = pd.read_csv(os.path.join(ROOT_PATH, \"data\",  \"split_test_labels.csv\")).iloc[:,0]\n",
    "\n",
    "X_train = pd.get_dummies(X_train)\n",
    "X_test = pd.get_dummies(X_test)"
   ]
  },
  {
   "cell_type": "code",
   "execution_count": 7,
   "metadata": {},
   "outputs": [],
   "source": [
    "class PreprocessorLog1(BaseEstimator, TransformerMixin):\n",
    "    def __init__(self, columns):\n",
    "        self.columns = columns\n",
    "        pass\n",
    "    \n",
    "    def transform(self, X, *_):\n",
    "        new_X = self._preprocess_input(X)\n",
    "        return new_X\n",
    "    \n",
    "    def fit(self, X, *_):\n",
    "        return self\n",
    "    \n",
    "    # courtesy of pham minh\n",
    "    def _preprocess_input(self, X):\n",
    "        df_X = pd.DataFrame(X, columns=self.columns)\n",
    "        # Turn age feature into log(age)\n",
    "        if (\"log10(age+1)\" not in df_X.columns) and (\"age\" in df_X.columns):\n",
    "            df_X[\"log10(age+1)\"] = df_X[\"age\"].transform(lambda x: np.log10(x + 1))\n",
    "            df_X.drop(\"age\", axis = 1, inplace = True)\n",
    "        # Drop unnecessary features\n",
    "        dropped_features = [\n",
    "            \"has_secondary_use\",\n",
    "            \"has_secondary_use_agriculture\",\n",
    "            \"has_secondary_use_hotel\",\n",
    "            \"has_secondary_use_rental\",\n",
    "            \"has_secondary_use_institution\",\n",
    "            \"has_secondary_use_school\",\n",
    "            \"has_secondary_use_industry\",\n",
    "            \"has_secondary_use_health_post\",\n",
    "            \"has_secondary_use_gov_office\",\n",
    "            \"has_secondary_use_use_police\",\n",
    "            \"has_secondary_use_other\"\n",
    "        ]\n",
    "        for feature in dropped_features:\n",
    "            if feature in df_X.columns:\n",
    "                df_X.drop(feature, axis = 1, inplace = True)\n",
    "        # Turn all category features into multiple one-hot features\n",
    "        df_X = pd.get_dummies(df_X)\n",
    "        return df_X.values"
   ]
  },
  {
   "cell_type": "markdown",
   "metadata": {
    "heading_collapsed": true
   },
   "source": [
    "## Setting up models to stack"
   ]
  },
  {
   "cell_type": "code",
   "execution_count": 8,
   "metadata": {
    "hidden": true
   },
   "outputs": [
    {
     "name": "stdout",
     "output_type": "stream",
     "text": [
      "Pipeline(memory=None,\n",
      "         steps=[('preprocessorlog1',\n",
      "                 PreprocessorLog1(columns=Index(['geo_level_1_id', 'geo_level_2_id', 'geo_level_3_id',\n",
      "       'count_floors_pre_eq', 'age', 'area_percentage', 'height_percentage',\n",
      "       'has_superstructure_adobe_mud', 'has_superstructure_mud_mortar_stone',\n",
      "       'has_superstructure_stone_flag',\n",
      "       'has_superstructure_cement_mortar_stone',\n",
      "       'has_supers...\n",
      "      dtype='object'))),\n",
      "                ('minmaxscaler', MinMaxScaler(copy=True, feature_range=(0, 1))),\n",
      "                ('logisticregression',\n",
      "                 LogisticRegression(C=100, class_weight=None, dual=False,\n",
      "                                    fit_intercept=True, intercept_scaling=1,\n",
      "                                    l1_ratio=None, max_iter=10000,\n",
      "                                    multi_class='ovr', n_jobs=None,\n",
      "                                    penalty='l2', random_state=None,\n",
      "                                    solver='saga', tol=0.001, verbose=0,\n",
      "                                    warm_start=False))],\n",
      "         verbose=False)\n"
     ]
    }
   ],
   "source": [
    "lr1 = LogisticRegression(solver=\"saga\", multi_class=\"ovr\", max_iter=10000, tol=0.001,\n",
    "                       C=100, penalty='l2')\n",
    "lrpipe = make_pipeline(PreprocessorLog1(X_train.columns), MinMaxScaler(), lr1)\n",
    "print(lrpipe)"
   ]
  },
  {
   "cell_type": "code",
   "execution_count": 10,
   "metadata": {
    "hidden": true
   },
   "outputs": [
    {
     "name": "stdout",
     "output_type": "stream",
     "text": [
      "Pipeline(memory=None,\n",
      "         steps=[('standardscaler',\n",
      "                 StandardScaler(copy=True, with_mean=True, with_std=True)),\n",
      "                ('xgbclassifier',\n",
      "                 XGBClassifier(base_score=0.5, booster='gbtree',\n",
      "                               colsample_bylevel=1, colsample_bynode=1,\n",
      "                               colsample_bytree=0.8, gamma=0, learning_rate=0.2,\n",
      "                               max_delta_step=0, max_depth=10,\n",
      "                               min_child_weight=3, missing=None,\n",
      "                               n_estimators=200, n_jobs=15, nthread=None,\n",
      "                               objective='multi:softmax', random_state=2000,\n",
      "                               reg_alpha=1, reg_lambda=0, scale_pos_weight=1,\n",
      "                               seed=None, silent=None, subsample=0.8,\n",
      "                               verbosity=1))],\n",
      "         verbose=False)\n"
     ]
    }
   ],
   "source": [
    "xgb1 = xgb.XGBClassifier(random_state=2000, n_jobs=15, reg_lambda=0, learning_rate=0.2, objective='multi:softmax',\n",
    "                       max_depth=10, subsample=0.8, colsample_bytree=0.8, min_child_weight=3, reg_alpha=1, n_estimators=200)\n",
    "xgbpipe = make_pipeline(StandardScaler(), xgb1)\n",
    "print(xgbpipe)"
   ]
  },
  {
   "cell_type": "code",
   "execution_count": 11,
   "metadata": {
    "hidden": true,
    "scrolled": false
   },
   "outputs": [
    {
     "name": "stdout",
     "output_type": "stream",
     "text": [
      "Pipeline(memory=None,\n",
      "         steps=[('standardscaler',\n",
      "                 StandardScaler(copy=True, with_mean=True, with_std=True)),\n",
      "                ('randomforestclassifier',\n",
      "                 RandomForestClassifier(bootstrap=True, class_weight=None,\n",
      "                                        criterion='gini', max_depth=34,\n",
      "                                        max_features=56, max_leaf_nodes=None,\n",
      "                                        min_impurity_decrease=0.0,\n",
      "                                        min_impurity_split=None,\n",
      "                                        min_samples_leaf=4,\n",
      "                                        min_samples_split=0.1,\n",
      "                                        min_weight_fraction_leaf=0.0,\n",
      "                                        n_estimators=12, n_jobs=None,\n",
      "                                        oob_score=False, random_state=2000,\n",
      "                                        verbose=0, warm_start=False))],\n",
      "         verbose=False)\n"
     ]
    }
   ],
   "source": [
    "rf = RandomForestClassifier(random_state=2000, max_depth=34, max_features=56, min_samples_leaf=4,\n",
    "                           min_samples_split=0.1, n_estimators=12)\n",
    "rfpipe = make_pipeline(StandardScaler(), rf)\n",
    "print(rfpipe)"
   ]
  },
  {
   "cell_type": "code",
   "execution_count": 12,
   "metadata": {
    "hidden": true,
    "scrolled": true
   },
   "outputs": [
    {
     "name": "stdout",
     "output_type": "stream",
     "text": [
      "StackingCVClassifier(classifiers=[Pipeline(memory=None,\n",
      "                                           steps=[('standardscaler',\n",
      "                                                   StandardScaler(copy=True,\n",
      "                                                                  with_mean=True,\n",
      "                                                                  with_std=True)),\n",
      "                                                  ('randomforestclassifier',\n",
      "                                                   RandomForestClassifier(bootstrap=True,\n",
      "                                                                          class_weight=None,\n",
      "                                                                          criterion='gini',\n",
      "                                                                          max_depth=34,\n",
      "                                                                          max_features=56,\n",
      "                                                                          max_leaf_nodes=None,\n",
      "                                                                          min_impurity_decrease=0.0,\n",
      "                                                                          min_impurity_split=None,\n",
      "                                                                          min_samples_leaf...\n",
      "                                                        fit_intercept=True,\n",
      "                                                        intercept_scaling=1,\n",
      "                                                        l1_ratio=None,\n",
      "                                                        max_iter=100,\n",
      "                                                        multi_class='warn',\n",
      "                                                        n_jobs=None,\n",
      "                                                        penalty='l2',\n",
      "                                                        random_state=1000,\n",
      "                                                        solver='warn',\n",
      "                                                        tol=0.0001, verbose=0,\n",
      "                                                        warm_start=False),\n",
      "                     n_jobs=None, pre_dispatch='2*n_jobs', random_state=1000,\n",
      "                     shuffle=True, store_train_meta_features=False,\n",
      "                     stratify=True, use_clones=True,\n",
      "                     use_features_in_secondary=False, use_probas=True,\n",
      "                     verbose=0)\n"
     ]
    }
   ],
   "source": [
    "RANDOM_SEED = 1000\n",
    "lr2 = LogisticRegression(random_state=1000, C=10000)\n",
    "sclf = StackingCVClassifier(classifiers=[rfpipe, lrpipe, xgbpipe],\n",
    "                           meta_classifier=lr2,\n",
    "                           random_state = RANDOM_SEED, use_probas=True)\n",
    "print(sclf)"
   ]
  },
  {
   "cell_type": "markdown",
   "metadata": {
    "heading_collapsed": true
   },
   "source": [
    "## Hyperparameter tuning"
   ]
  },
  {
   "cell_type": "code",
   "execution_count": 16,
   "metadata": {
    "hidden": true
   },
   "outputs": [],
   "source": [
    "def save_cv(cv_results_, filepath):\n",
    "    cv_results = pd.DataFrame(cv_results_)\n",
    "    cv_results.to_csv(filepath)"
   ]
  },
  {
   "cell_type": "code",
   "execution_count": 17,
   "metadata": {
    "hidden": true
   },
   "outputs": [
    {
     "name": "stdout",
     "output_type": "stream",
     "text": [
      "GridSearchCV(cv=5, error_score='raise-deprecating',\n",
      "             estimator=StackingCVClassifier(classifiers=[Pipeline(memory=None,\n",
      "                                                                  steps=[('standardscaler',\n",
      "                                                                          StandardScaler(copy=True,\n",
      "                                                                                         with_mean=True,\n",
      "                                                                                         with_std=True)),\n",
      "                                                                         ('randomforestclassifier',\n",
      "                                                                          RandomForestClassifier(bootstrap=True,\n",
      "                                                                                                 class_weight=None,\n",
      "                                                                                                 criterion='gini',\n",
      "                                                                                                 max_depth=34,\n",
      "                                                                                                 max_features=56,\n",
      "                                                                                                 max_leaf_nodes=None,\n",
      "                                                                                                 min_im...\n",
      "                                                                               warm_start=False),\n",
      "                                            n_jobs=None,\n",
      "                                            pre_dispatch='2*n_jobs',\n",
      "                                            random_state=1000, shuffle=True,\n",
      "                                            store_train_meta_features=False,\n",
      "                                            stratify=True, use_clones=True,\n",
      "                                            use_features_in_secondary=False,\n",
      "                                            use_probas=True, verbose=0),\n",
      "             iid='warn', n_jobs=None,\n",
      "             param_grid={'meta_classifier__C': [1, 10, 100]},\n",
      "             pre_dispatch='2*n_jobs', refit=True, return_train_score=False,\n",
      "             scoring=None, verbose=0)\n"
     ]
    }
   ],
   "source": [
    "hp_space = {'meta_classifier__C': [1, 10, 100]    \n",
    "}\n",
    "\n",
    "gscv = GridSearchCV(estimator=sclf, \n",
    "                    param_grid=hp_space, \n",
    "                    cv=5,\n",
    "                    refit=True)\n",
    "print(gscv)"
   ]
  },
  {
   "cell_type": "code",
   "execution_count": 18,
   "metadata": {
    "hidden": true
   },
   "outputs": [
    {
     "name": "stderr",
     "output_type": "stream",
     "text": [
      "/home/tenvinc/.local/lib/python3.6/site-packages/sklearn/linear_model/logistic.py:432: FutureWarning: Default solver will be changed to 'lbfgs' in 0.22. Specify a solver to silence this warning.\n",
      "  FutureWarning)\n",
      "/home/tenvinc/.local/lib/python3.6/site-packages/sklearn/linear_model/logistic.py:469: FutureWarning: Default multi_class will be changed to 'auto' in 0.22. Specify the multi_class option to silence this warning.\n",
      "  \"this warning.\", FutureWarning)\n",
      "/home/tenvinc/.local/lib/python3.6/site-packages/sklearn/linear_model/logistic.py:432: FutureWarning: Default solver will be changed to 'lbfgs' in 0.22. Specify a solver to silence this warning.\n",
      "  FutureWarning)\n",
      "/home/tenvinc/.local/lib/python3.6/site-packages/sklearn/linear_model/logistic.py:469: FutureWarning: Default multi_class will be changed to 'auto' in 0.22. Specify the multi_class option to silence this warning.\n",
      "  \"this warning.\", FutureWarning)\n",
      "/home/tenvinc/.local/lib/python3.6/site-packages/sklearn/linear_model/logistic.py:432: FutureWarning: Default solver will be changed to 'lbfgs' in 0.22. Specify a solver to silence this warning.\n",
      "  FutureWarning)\n",
      "/home/tenvinc/.local/lib/python3.6/site-packages/sklearn/linear_model/logistic.py:469: FutureWarning: Default multi_class will be changed to 'auto' in 0.22. Specify the multi_class option to silence this warning.\n",
      "  \"this warning.\", FutureWarning)\n",
      "/home/tenvinc/.local/lib/python3.6/site-packages/sklearn/linear_model/logistic.py:432: FutureWarning: Default solver will be changed to 'lbfgs' in 0.22. Specify a solver to silence this warning.\n",
      "  FutureWarning)\n",
      "/home/tenvinc/.local/lib/python3.6/site-packages/sklearn/linear_model/logistic.py:469: FutureWarning: Default multi_class will be changed to 'auto' in 0.22. Specify the multi_class option to silence this warning.\n",
      "  \"this warning.\", FutureWarning)\n",
      "/home/tenvinc/.local/lib/python3.6/site-packages/sklearn/linear_model/logistic.py:432: FutureWarning: Default solver will be changed to 'lbfgs' in 0.22. Specify a solver to silence this warning.\n",
      "  FutureWarning)\n",
      "/home/tenvinc/.local/lib/python3.6/site-packages/sklearn/linear_model/logistic.py:469: FutureWarning: Default multi_class will be changed to 'auto' in 0.22. Specify the multi_class option to silence this warning.\n",
      "  \"this warning.\", FutureWarning)\n",
      "/home/tenvinc/.local/lib/python3.6/site-packages/sklearn/linear_model/logistic.py:432: FutureWarning: Default solver will be changed to 'lbfgs' in 0.22. Specify a solver to silence this warning.\n",
      "  FutureWarning)\n",
      "/home/tenvinc/.local/lib/python3.6/site-packages/sklearn/linear_model/logistic.py:469: FutureWarning: Default multi_class will be changed to 'auto' in 0.22. Specify the multi_class option to silence this warning.\n",
      "  \"this warning.\", FutureWarning)\n",
      "/home/tenvinc/.local/lib/python3.6/site-packages/sklearn/linear_model/logistic.py:432: FutureWarning: Default solver will be changed to 'lbfgs' in 0.22. Specify a solver to silence this warning.\n",
      "  FutureWarning)\n",
      "/home/tenvinc/.local/lib/python3.6/site-packages/sklearn/linear_model/logistic.py:469: FutureWarning: Default multi_class will be changed to 'auto' in 0.22. Specify the multi_class option to silence this warning.\n",
      "  \"this warning.\", FutureWarning)\n",
      "/home/tenvinc/.local/lib/python3.6/site-packages/sklearn/linear_model/logistic.py:432: FutureWarning: Default solver will be changed to 'lbfgs' in 0.22. Specify a solver to silence this warning.\n",
      "  FutureWarning)\n",
      "/home/tenvinc/.local/lib/python3.6/site-packages/sklearn/linear_model/logistic.py:469: FutureWarning: Default multi_class will be changed to 'auto' in 0.22. Specify the multi_class option to silence this warning.\n",
      "  \"this warning.\", FutureWarning)\n",
      "/home/tenvinc/.local/lib/python3.6/site-packages/sklearn/linear_model/logistic.py:432: FutureWarning: Default solver will be changed to 'lbfgs' in 0.22. Specify a solver to silence this warning.\n",
      "  FutureWarning)\n",
      "/home/tenvinc/.local/lib/python3.6/site-packages/sklearn/linear_model/logistic.py:469: FutureWarning: Default multi_class will be changed to 'auto' in 0.22. Specify the multi_class option to silence this warning.\n",
      "  \"this warning.\", FutureWarning)\n",
      "/home/tenvinc/.local/lib/python3.6/site-packages/sklearn/linear_model/logistic.py:432: FutureWarning: Default solver will be changed to 'lbfgs' in 0.22. Specify a solver to silence this warning.\n",
      "  FutureWarning)\n",
      "/home/tenvinc/.local/lib/python3.6/site-packages/sklearn/linear_model/logistic.py:469: FutureWarning: Default multi_class will be changed to 'auto' in 0.22. Specify the multi_class option to silence this warning.\n",
      "  \"this warning.\", FutureWarning)\n",
      "/home/tenvinc/.local/lib/python3.6/site-packages/sklearn/linear_model/logistic.py:432: FutureWarning: Default solver will be changed to 'lbfgs' in 0.22. Specify a solver to silence this warning.\n",
      "  FutureWarning)\n",
      "/home/tenvinc/.local/lib/python3.6/site-packages/sklearn/linear_model/logistic.py:469: FutureWarning: Default multi_class will be changed to 'auto' in 0.22. Specify the multi_class option to silence this warning.\n",
      "  \"this warning.\", FutureWarning)\n",
      "/home/tenvinc/.local/lib/python3.6/site-packages/sklearn/linear_model/logistic.py:432: FutureWarning: Default solver will be changed to 'lbfgs' in 0.22. Specify a solver to silence this warning.\n",
      "  FutureWarning)\n",
      "/home/tenvinc/.local/lib/python3.6/site-packages/sklearn/linear_model/logistic.py:469: FutureWarning: Default multi_class will be changed to 'auto' in 0.22. Specify the multi_class option to silence this warning.\n",
      "  \"this warning.\", FutureWarning)\n",
      "/home/tenvinc/.local/lib/python3.6/site-packages/sklearn/linear_model/logistic.py:432: FutureWarning: Default solver will be changed to 'lbfgs' in 0.22. Specify a solver to silence this warning.\n",
      "  FutureWarning)\n",
      "/home/tenvinc/.local/lib/python3.6/site-packages/sklearn/linear_model/logistic.py:469: FutureWarning: Default multi_class will be changed to 'auto' in 0.22. Specify the multi_class option to silence this warning.\n",
      "  \"this warning.\", FutureWarning)\n",
      "/home/tenvinc/.local/lib/python3.6/site-packages/sklearn/linear_model/logistic.py:432: FutureWarning: Default solver will be changed to 'lbfgs' in 0.22. Specify a solver to silence this warning.\n",
      "  FutureWarning)\n",
      "/home/tenvinc/.local/lib/python3.6/site-packages/sklearn/linear_model/logistic.py:469: FutureWarning: Default multi_class will be changed to 'auto' in 0.22. Specify the multi_class option to silence this warning.\n",
      "  \"this warning.\", FutureWarning)\n",
      "/home/tenvinc/.local/lib/python3.6/site-packages/sklearn/linear_model/logistic.py:432: FutureWarning: Default solver will be changed to 'lbfgs' in 0.22. Specify a solver to silence this warning.\n",
      "  FutureWarning)\n",
      "/home/tenvinc/.local/lib/python3.6/site-packages/sklearn/linear_model/logistic.py:469: FutureWarning: Default multi_class will be changed to 'auto' in 0.22. Specify the multi_class option to silence this warning.\n",
      "  \"this warning.\", FutureWarning)\n",
      "/home/tenvinc/.local/lib/python3.6/site-packages/sklearn/linear_model/logistic.py:432: FutureWarning: Default solver will be changed to 'lbfgs' in 0.22. Specify a solver to silence this warning.\n",
      "  FutureWarning)\n",
      "/home/tenvinc/.local/lib/python3.6/site-packages/sklearn/linear_model/logistic.py:469: FutureWarning: Default multi_class will be changed to 'auto' in 0.22. Specify the multi_class option to silence this warning.\n",
      "  \"this warning.\", FutureWarning)\n"
     ]
    },
    {
     "data": {
      "text/plain": [
       "GridSearchCV(cv=5, error_score='raise-deprecating',\n",
       "             estimator=StackingCVClassifier(classifiers=[Pipeline(memory=None,\n",
       "                                                                  steps=[('standardscaler',\n",
       "                                                                          StandardScaler(copy=True,\n",
       "                                                                                         with_mean=True,\n",
       "                                                                                         with_std=True)),\n",
       "                                                                         ('randomforestclassifier',\n",
       "                                                                          RandomForestClassifier(bootstrap=True,\n",
       "                                                                                                 class_weight=None,\n",
       "                                                                                                 criterion='gini',\n",
       "                                                                                                 max_depth=34,\n",
       "                                                                                                 max_features=56,\n",
       "                                                                                                 max_leaf_nodes=None,\n",
       "                                                                                                 min_im...\n",
       "                                                                               warm_start=False),\n",
       "                                            n_jobs=None,\n",
       "                                            pre_dispatch='2*n_jobs',\n",
       "                                            random_state=1000, shuffle=True,\n",
       "                                            store_train_meta_features=False,\n",
       "                                            stratify=True, use_clones=True,\n",
       "                                            use_features_in_secondary=False,\n",
       "                                            use_probas=True, verbose=0),\n",
       "             iid='warn', n_jobs=None,\n",
       "             param_grid={'meta_classifier__C': [1, 10, 100]},\n",
       "             pre_dispatch='2*n_jobs', refit=True, return_train_score=False,\n",
       "             scoring=None, verbose=0)"
      ]
     },
     "execution_count": 18,
     "metadata": {},
     "output_type": "execute_result"
    }
   ],
   "source": [
    "gscv.fit(X_train, y_train)"
   ]
  },
  {
   "cell_type": "code",
   "execution_count": 19,
   "metadata": {
    "hidden": true
   },
   "outputs": [
    {
     "name": "stdout",
     "output_type": "stream",
     "text": [
      "Finished training SVC with grid search CV. Saving model...\n",
      "All \n",
      "Best params: {'meta_classifier__C': 10}\n",
      "Best Micro F1 score: 0.656\n",
      "Summary of CV_results: dict_keys(['mean_fit_time', 'std_fit_time', 'mean_score_time', 'std_score_time', 'param_meta_classifier__C', 'params', 'split0_test_score', 'split1_test_score', 'split2_test_score', 'split3_test_score', 'split4_test_score', 'mean_test_score', 'std_test_score', 'rank_test_score'])\n"
     ]
    }
   ],
   "source": [
    "print(\"Finished training SCLF with grid search CV. Saving model...\")\n",
    "print(\"All \")\n",
    "print(\"Best params: {}\".format(gscv.best_params_))\n",
    "print(\"Best Micro F1 score: {}\".format(gscv.best_score_))\n",
    "print(\"Summary of CV_results: {}\".format(gscv.cv_results_.keys()))\n",
    "save_cv(gscv.cv_results_, os.path.join(ROOT_PATH, \"results\", \"sclf_grid1.csv\"))"
   ]
  },
  {
   "cell_type": "code",
   "execution_count": 21,
   "metadata": {
    "hidden": true
   },
   "outputs": [
    {
     "name": "stdout",
     "output_type": "stream",
     "text": [
      "GridSearchCV(cv=5, error_score='raise-deprecating',\n",
      "             estimator=StackingCVClassifier(classifiers=[Pipeline(memory=None,\n",
      "                                                                  steps=[('standardscaler',\n",
      "                                                                          StandardScaler(copy=True,\n",
      "                                                                                         with_mean=True,\n",
      "                                                                                         with_std=True)),\n",
      "                                                                         ('randomforestclassifier',\n",
      "                                                                          RandomForestClassifier(bootstrap=True,\n",
      "                                                                                                 class_weight=None,\n",
      "                                                                                                 criterion='gini',\n",
      "                                                                                                 max_depth=34,\n",
      "                                                                                                 max_features=56,\n",
      "                                                                                                 max_leaf_nodes=None,\n",
      "                                                                                                 min_im...\n",
      "                                                                               warm_start=False),\n",
      "                                            n_jobs=None,\n",
      "                                            pre_dispatch='2*n_jobs',\n",
      "                                            random_state=1000, shuffle=True,\n",
      "                                            store_train_meta_features=False,\n",
      "                                            stratify=True, use_clones=True,\n",
      "                                            use_features_in_secondary=False,\n",
      "                                            use_probas=True, verbose=0),\n",
      "             iid='warn', n_jobs=None,\n",
      "             param_grid={'meta_classifier__C': [10, 100, 1000]},\n",
      "             pre_dispatch='2*n_jobs', refit=True, return_train_score=False,\n",
      "             scoring=None, verbose=0)\n"
     ]
    }
   ],
   "source": [
    "hp_space2 = {'meta_classifier__C': [10, 100, 1000]    \n",
    "}\n",
    "\n",
    "gscv2 = GridSearchCV(estimator=sclf, \n",
    "                    param_grid=hp_space2, \n",
    "                    cv=5,\n",
    "                    refit=True)\n",
    "print(gscv2)"
   ]
  },
  {
   "cell_type": "code",
   "execution_count": 22,
   "metadata": {
    "hidden": true
   },
   "outputs": [
    {
     "name": "stderr",
     "output_type": "stream",
     "text": [
      "/home/tenvinc/.local/lib/python3.6/site-packages/sklearn/linear_model/logistic.py:432: FutureWarning: Default solver will be changed to 'lbfgs' in 0.22. Specify a solver to silence this warning.\n",
      "  FutureWarning)\n",
      "/home/tenvinc/.local/lib/python3.6/site-packages/sklearn/linear_model/logistic.py:469: FutureWarning: Default multi_class will be changed to 'auto' in 0.22. Specify the multi_class option to silence this warning.\n",
      "  \"this warning.\", FutureWarning)\n",
      "/home/tenvinc/.local/lib/python3.6/site-packages/sklearn/linear_model/logistic.py:432: FutureWarning: Default solver will be changed to 'lbfgs' in 0.22. Specify a solver to silence this warning.\n",
      "  FutureWarning)\n",
      "/home/tenvinc/.local/lib/python3.6/site-packages/sklearn/linear_model/logistic.py:469: FutureWarning: Default multi_class will be changed to 'auto' in 0.22. Specify the multi_class option to silence this warning.\n",
      "  \"this warning.\", FutureWarning)\n",
      "/home/tenvinc/.local/lib/python3.6/site-packages/sklearn/linear_model/logistic.py:432: FutureWarning: Default solver will be changed to 'lbfgs' in 0.22. Specify a solver to silence this warning.\n",
      "  FutureWarning)\n",
      "/home/tenvinc/.local/lib/python3.6/site-packages/sklearn/linear_model/logistic.py:469: FutureWarning: Default multi_class will be changed to 'auto' in 0.22. Specify the multi_class option to silence this warning.\n",
      "  \"this warning.\", FutureWarning)\n",
      "/home/tenvinc/.local/lib/python3.6/site-packages/sklearn/linear_model/logistic.py:432: FutureWarning: Default solver will be changed to 'lbfgs' in 0.22. Specify a solver to silence this warning.\n",
      "  FutureWarning)\n",
      "/home/tenvinc/.local/lib/python3.6/site-packages/sklearn/linear_model/logistic.py:469: FutureWarning: Default multi_class will be changed to 'auto' in 0.22. Specify the multi_class option to silence this warning.\n",
      "  \"this warning.\", FutureWarning)\n",
      "/home/tenvinc/.local/lib/python3.6/site-packages/sklearn/linear_model/logistic.py:432: FutureWarning: Default solver will be changed to 'lbfgs' in 0.22. Specify a solver to silence this warning.\n",
      "  FutureWarning)\n",
      "/home/tenvinc/.local/lib/python3.6/site-packages/sklearn/linear_model/logistic.py:469: FutureWarning: Default multi_class will be changed to 'auto' in 0.22. Specify the multi_class option to silence this warning.\n",
      "  \"this warning.\", FutureWarning)\n",
      "/home/tenvinc/.local/lib/python3.6/site-packages/sklearn/linear_model/logistic.py:432: FutureWarning: Default solver will be changed to 'lbfgs' in 0.22. Specify a solver to silence this warning.\n",
      "  FutureWarning)\n",
      "/home/tenvinc/.local/lib/python3.6/site-packages/sklearn/linear_model/logistic.py:469: FutureWarning: Default multi_class will be changed to 'auto' in 0.22. Specify the multi_class option to silence this warning.\n",
      "  \"this warning.\", FutureWarning)\n",
      "/home/tenvinc/.local/lib/python3.6/site-packages/sklearn/linear_model/logistic.py:432: FutureWarning: Default solver will be changed to 'lbfgs' in 0.22. Specify a solver to silence this warning.\n",
      "  FutureWarning)\n",
      "/home/tenvinc/.local/lib/python3.6/site-packages/sklearn/linear_model/logistic.py:469: FutureWarning: Default multi_class will be changed to 'auto' in 0.22. Specify the multi_class option to silence this warning.\n",
      "  \"this warning.\", FutureWarning)\n",
      "/home/tenvinc/.local/lib/python3.6/site-packages/sklearn/linear_model/logistic.py:432: FutureWarning: Default solver will be changed to 'lbfgs' in 0.22. Specify a solver to silence this warning.\n",
      "  FutureWarning)\n",
      "/home/tenvinc/.local/lib/python3.6/site-packages/sklearn/linear_model/logistic.py:469: FutureWarning: Default multi_class will be changed to 'auto' in 0.22. Specify the multi_class option to silence this warning.\n",
      "  \"this warning.\", FutureWarning)\n",
      "/home/tenvinc/.local/lib/python3.6/site-packages/sklearn/linear_model/logistic.py:432: FutureWarning: Default solver will be changed to 'lbfgs' in 0.22. Specify a solver to silence this warning.\n",
      "  FutureWarning)\n",
      "/home/tenvinc/.local/lib/python3.6/site-packages/sklearn/linear_model/logistic.py:469: FutureWarning: Default multi_class will be changed to 'auto' in 0.22. Specify the multi_class option to silence this warning.\n",
      "  \"this warning.\", FutureWarning)\n",
      "/home/tenvinc/.local/lib/python3.6/site-packages/sklearn/linear_model/logistic.py:432: FutureWarning: Default solver will be changed to 'lbfgs' in 0.22. Specify a solver to silence this warning.\n",
      "  FutureWarning)\n",
      "/home/tenvinc/.local/lib/python3.6/site-packages/sklearn/linear_model/logistic.py:469: FutureWarning: Default multi_class will be changed to 'auto' in 0.22. Specify the multi_class option to silence this warning.\n",
      "  \"this warning.\", FutureWarning)\n",
      "/home/tenvinc/.local/lib/python3.6/site-packages/sklearn/linear_model/logistic.py:432: FutureWarning: Default solver will be changed to 'lbfgs' in 0.22. Specify a solver to silence this warning.\n",
      "  FutureWarning)\n",
      "/home/tenvinc/.local/lib/python3.6/site-packages/sklearn/linear_model/logistic.py:469: FutureWarning: Default multi_class will be changed to 'auto' in 0.22. Specify the multi_class option to silence this warning.\n",
      "  \"this warning.\", FutureWarning)\n",
      "/home/tenvinc/.local/lib/python3.6/site-packages/sklearn/linear_model/logistic.py:432: FutureWarning: Default solver will be changed to 'lbfgs' in 0.22. Specify a solver to silence this warning.\n",
      "  FutureWarning)\n",
      "/home/tenvinc/.local/lib/python3.6/site-packages/sklearn/linear_model/logistic.py:469: FutureWarning: Default multi_class will be changed to 'auto' in 0.22. Specify the multi_class option to silence this warning.\n",
      "  \"this warning.\", FutureWarning)\n",
      "/home/tenvinc/.local/lib/python3.6/site-packages/sklearn/linear_model/logistic.py:432: FutureWarning: Default solver will be changed to 'lbfgs' in 0.22. Specify a solver to silence this warning.\n",
      "  FutureWarning)\n",
      "/home/tenvinc/.local/lib/python3.6/site-packages/sklearn/linear_model/logistic.py:469: FutureWarning: Default multi_class will be changed to 'auto' in 0.22. Specify the multi_class option to silence this warning.\n",
      "  \"this warning.\", FutureWarning)\n",
      "/home/tenvinc/.local/lib/python3.6/site-packages/sklearn/linear_model/logistic.py:432: FutureWarning: Default solver will be changed to 'lbfgs' in 0.22. Specify a solver to silence this warning.\n",
      "  FutureWarning)\n",
      "/home/tenvinc/.local/lib/python3.6/site-packages/sklearn/linear_model/logistic.py:469: FutureWarning: Default multi_class will be changed to 'auto' in 0.22. Specify the multi_class option to silence this warning.\n",
      "  \"this warning.\", FutureWarning)\n",
      "/home/tenvinc/.local/lib/python3.6/site-packages/sklearn/linear_model/logistic.py:432: FutureWarning: Default solver will be changed to 'lbfgs' in 0.22. Specify a solver to silence this warning.\n",
      "  FutureWarning)\n",
      "/home/tenvinc/.local/lib/python3.6/site-packages/sklearn/linear_model/logistic.py:469: FutureWarning: Default multi_class will be changed to 'auto' in 0.22. Specify the multi_class option to silence this warning.\n",
      "  \"this warning.\", FutureWarning)\n",
      "/home/tenvinc/.local/lib/python3.6/site-packages/sklearn/linear_model/logistic.py:432: FutureWarning: Default solver will be changed to 'lbfgs' in 0.22. Specify a solver to silence this warning.\n",
      "  FutureWarning)\n",
      "/home/tenvinc/.local/lib/python3.6/site-packages/sklearn/linear_model/logistic.py:469: FutureWarning: Default multi_class will be changed to 'auto' in 0.22. Specify the multi_class option to silence this warning.\n",
      "  \"this warning.\", FutureWarning)\n"
     ]
    },
    {
     "data": {
      "text/plain": [
       "GridSearchCV(cv=5, error_score='raise-deprecating',\n",
       "             estimator=StackingCVClassifier(classifiers=[Pipeline(memory=None,\n",
       "                                                                  steps=[('standardscaler',\n",
       "                                                                          StandardScaler(copy=True,\n",
       "                                                                                         with_mean=True,\n",
       "                                                                                         with_std=True)),\n",
       "                                                                         ('randomforestclassifier',\n",
       "                                                                          RandomForestClassifier(bootstrap=True,\n",
       "                                                                                                 class_weight=None,\n",
       "                                                                                                 criterion='gini',\n",
       "                                                                                                 max_depth=34,\n",
       "                                                                                                 max_features=56,\n",
       "                                                                                                 max_leaf_nodes=None,\n",
       "                                                                                                 min_im...\n",
       "                                                                               warm_start=False),\n",
       "                                            n_jobs=None,\n",
       "                                            pre_dispatch='2*n_jobs',\n",
       "                                            random_state=1000, shuffle=True,\n",
       "                                            store_train_meta_features=False,\n",
       "                                            stratify=True, use_clones=True,\n",
       "                                            use_features_in_secondary=False,\n",
       "                                            use_probas=True, verbose=0),\n",
       "             iid='warn', n_jobs=None,\n",
       "             param_grid={'meta_classifier__C': [10, 100, 1000]},\n",
       "             pre_dispatch='2*n_jobs', refit=True, return_train_score=False,\n",
       "             scoring=None, verbose=0)"
      ]
     },
     "execution_count": 22,
     "metadata": {},
     "output_type": "execute_result"
    }
   ],
   "source": [
    "gscv2.fit(X_train, y_train)"
   ]
  },
  {
   "cell_type": "code",
   "execution_count": 23,
   "metadata": {
    "hidden": true
   },
   "outputs": [
    {
     "name": "stdout",
     "output_type": "stream",
     "text": [
      "Finished training SVC with grid search CV 2. Saving model...\n",
      "All \n",
      "Best params: {'meta_classifier__C': 10}\n",
      "Best Micro F1 score: 0.656\n",
      "Summary of CV_results: dict_keys(['mean_fit_time', 'std_fit_time', 'mean_score_time', 'std_score_time', 'param_meta_classifier__C', 'params', 'split0_test_score', 'split1_test_score', 'split2_test_score', 'split3_test_score', 'split4_test_score', 'mean_test_score', 'std_test_score', 'rank_test_score'])\n",
      "{'mean_fit_time': array([1.70731521, 1.70696821, 1.71169915]), 'std_fit_time': array([0.02757569, 0.02635844, 0.02671279]), 'mean_score_time': array([0.03501797, 0.03463244, 0.03447952]), 'std_score_time': array([0.0008895 , 0.00024941, 0.00028586]), 'param_meta_classifier__C': masked_array(data=[10, 100, 1000],\n",
      "             mask=[False, False, False],\n",
      "       fill_value='?',\n",
      "            dtype=object), 'params': [{'meta_classifier__C': 10}, {'meta_classifier__C': 100}, {'meta_classifier__C': 1000}], 'split0_test_score': array([0.65174129, 0.65174129, 0.65174129]), 'split1_test_score': array([0.66169154, 0.65671642, 0.65671642]), 'split2_test_score': array([0.665, 0.66 , 0.66 ]), 'split3_test_score': array([0.64824121, 0.64824121, 0.64824121]), 'split4_test_score': array([0.65326633, 0.65829146, 0.65829146]), 'mean_test_score': array([0.656, 0.655, 0.655]), 'std_test_score': array([0.00631057, 0.00435581, 0.00435581]), 'rank_test_score': array([1, 2, 2], dtype=int32)}\n"
     ]
    }
   ],
   "source": [
    "print(\"Finished training SCLF with grid search CV 2. Saving model...\")\n",
    "print(\"All \")\n",
    "print(\"Best params: {}\".format(gscv2.best_params_))\n",
    "print(\"Best Micro F1 score: {}\".format(gscv2.best_score_))\n",
    "print(\"Summary of CV_results: {}\".format(gscv2.cv_results_.keys()))\n",
    "print(gscv2.cv_results_)\n",
    "save_cv(gscv2.cv_results_, os.path.join(ROOT_PATH, \"results\", \"sclf_grid2.csv\"))"
   ]
  },
  {
   "cell_type": "code",
   "execution_count": 26,
   "metadata": {
    "hidden": true
   },
   "outputs": [
    {
     "name": "stdout",
     "output_type": "stream",
     "text": [
      "GridSearchCV(cv=5, error_score='raise-deprecating',\n",
      "             estimator=StackingCVClassifier(classifiers=[Pipeline(memory=None,\n",
      "                                                                  steps=[('standardscaler',\n",
      "                                                                          StandardScaler(copy=True,\n",
      "                                                                                         with_mean=True,\n",
      "                                                                                         with_std=True)),\n",
      "                                                                         ('randomforestclassifier',\n",
      "                                                                          RandomForestClassifier(bootstrap=True,\n",
      "                                                                                                 class_weight=None,\n",
      "                                                                                                 criterion='gini',\n",
      "                                                                                                 max_depth=34,\n",
      "                                                                                                 max_features=56,\n",
      "                                                                                                 max_leaf_nodes=None,\n",
      "                                                                                                 min_im...\n",
      "                                                                               warm_start=False),\n",
      "                                            n_jobs=None,\n",
      "                                            pre_dispatch='2*n_jobs',\n",
      "                                            random_state=1000, shuffle=True,\n",
      "                                            store_train_meta_features=False,\n",
      "                                            stratify=True, use_clones=True,\n",
      "                                            use_features_in_secondary=False,\n",
      "                                            use_probas=True, verbose=0),\n",
      "             iid='warn', n_jobs=None,\n",
      "             param_grid={'meta_classifier__C': [1000, 10000]},\n",
      "             pre_dispatch='2*n_jobs', refit=True, return_train_score=False,\n",
      "             scoring=None, verbose=0)\n"
     ]
    }
   ],
   "source": [
    "hp_space3 = {'meta_classifier__C': [1000, 10000]\n",
    "}\n",
    "\n",
    "gscv3 = GridSearchCV(estimator=sclf, \n",
    "                    param_grid=hp_space3, \n",
    "                    cv=5,\n",
    "                    refit=True)\n",
    "print(gscv3)"
   ]
  },
  {
   "cell_type": "code",
   "execution_count": 27,
   "metadata": {
    "hidden": true,
    "scrolled": true
   },
   "outputs": [
    {
     "name": "stderr",
     "output_type": "stream",
     "text": [
      "/home/tenvinc/.local/lib/python3.6/site-packages/sklearn/linear_model/logistic.py:432: FutureWarning: Default solver will be changed to 'lbfgs' in 0.22. Specify a solver to silence this warning.\n",
      "  FutureWarning)\n",
      "/home/tenvinc/.local/lib/python3.6/site-packages/sklearn/linear_model/logistic.py:469: FutureWarning: Default multi_class will be changed to 'auto' in 0.22. Specify the multi_class option to silence this warning.\n",
      "  \"this warning.\", FutureWarning)\n",
      "/home/tenvinc/.local/lib/python3.6/site-packages/sklearn/linear_model/logistic.py:432: FutureWarning: Default solver will be changed to 'lbfgs' in 0.22. Specify a solver to silence this warning.\n",
      "  FutureWarning)\n",
      "/home/tenvinc/.local/lib/python3.6/site-packages/sklearn/linear_model/logistic.py:469: FutureWarning: Default multi_class will be changed to 'auto' in 0.22. Specify the multi_class option to silence this warning.\n",
      "  \"this warning.\", FutureWarning)\n",
      "/home/tenvinc/.local/lib/python3.6/site-packages/sklearn/linear_model/logistic.py:432: FutureWarning: Default solver will be changed to 'lbfgs' in 0.22. Specify a solver to silence this warning.\n",
      "  FutureWarning)\n",
      "/home/tenvinc/.local/lib/python3.6/site-packages/sklearn/linear_model/logistic.py:469: FutureWarning: Default multi_class will be changed to 'auto' in 0.22. Specify the multi_class option to silence this warning.\n",
      "  \"this warning.\", FutureWarning)\n",
      "/home/tenvinc/.local/lib/python3.6/site-packages/sklearn/linear_model/logistic.py:432: FutureWarning: Default solver will be changed to 'lbfgs' in 0.22. Specify a solver to silence this warning.\n",
      "  FutureWarning)\n",
      "/home/tenvinc/.local/lib/python3.6/site-packages/sklearn/linear_model/logistic.py:469: FutureWarning: Default multi_class will be changed to 'auto' in 0.22. Specify the multi_class option to silence this warning.\n",
      "  \"this warning.\", FutureWarning)\n",
      "/home/tenvinc/.local/lib/python3.6/site-packages/sklearn/linear_model/logistic.py:432: FutureWarning: Default solver will be changed to 'lbfgs' in 0.22. Specify a solver to silence this warning.\n",
      "  FutureWarning)\n",
      "/home/tenvinc/.local/lib/python3.6/site-packages/sklearn/linear_model/logistic.py:469: FutureWarning: Default multi_class will be changed to 'auto' in 0.22. Specify the multi_class option to silence this warning.\n",
      "  \"this warning.\", FutureWarning)\n",
      "/home/tenvinc/.local/lib/python3.6/site-packages/sklearn/linear_model/logistic.py:432: FutureWarning: Default solver will be changed to 'lbfgs' in 0.22. Specify a solver to silence this warning.\n",
      "  FutureWarning)\n",
      "/home/tenvinc/.local/lib/python3.6/site-packages/sklearn/linear_model/logistic.py:469: FutureWarning: Default multi_class will be changed to 'auto' in 0.22. Specify the multi_class option to silence this warning.\n",
      "  \"this warning.\", FutureWarning)\n",
      "/home/tenvinc/.local/lib/python3.6/site-packages/sklearn/linear_model/logistic.py:432: FutureWarning: Default solver will be changed to 'lbfgs' in 0.22. Specify a solver to silence this warning.\n",
      "  FutureWarning)\n",
      "/home/tenvinc/.local/lib/python3.6/site-packages/sklearn/linear_model/logistic.py:469: FutureWarning: Default multi_class will be changed to 'auto' in 0.22. Specify the multi_class option to silence this warning.\n",
      "  \"this warning.\", FutureWarning)\n",
      "/home/tenvinc/.local/lib/python3.6/site-packages/sklearn/linear_model/logistic.py:432: FutureWarning: Default solver will be changed to 'lbfgs' in 0.22. Specify a solver to silence this warning.\n",
      "  FutureWarning)\n",
      "/home/tenvinc/.local/lib/python3.6/site-packages/sklearn/linear_model/logistic.py:469: FutureWarning: Default multi_class will be changed to 'auto' in 0.22. Specify the multi_class option to silence this warning.\n",
      "  \"this warning.\", FutureWarning)\n",
      "/home/tenvinc/.local/lib/python3.6/site-packages/sklearn/linear_model/logistic.py:432: FutureWarning: Default solver will be changed to 'lbfgs' in 0.22. Specify a solver to silence this warning.\n",
      "  FutureWarning)\n",
      "/home/tenvinc/.local/lib/python3.6/site-packages/sklearn/linear_model/logistic.py:469: FutureWarning: Default multi_class will be changed to 'auto' in 0.22. Specify the multi_class option to silence this warning.\n",
      "  \"this warning.\", FutureWarning)\n",
      "/home/tenvinc/.local/lib/python3.6/site-packages/sklearn/linear_model/logistic.py:432: FutureWarning: Default solver will be changed to 'lbfgs' in 0.22. Specify a solver to silence this warning.\n",
      "  FutureWarning)\n",
      "/home/tenvinc/.local/lib/python3.6/site-packages/sklearn/linear_model/logistic.py:469: FutureWarning: Default multi_class will be changed to 'auto' in 0.22. Specify the multi_class option to silence this warning.\n",
      "  \"this warning.\", FutureWarning)\n",
      "/home/tenvinc/.local/lib/python3.6/site-packages/sklearn/linear_model/logistic.py:432: FutureWarning: Default solver will be changed to 'lbfgs' in 0.22. Specify a solver to silence this warning.\n",
      "  FutureWarning)\n",
      "/home/tenvinc/.local/lib/python3.6/site-packages/sklearn/linear_model/logistic.py:469: FutureWarning: Default multi_class will be changed to 'auto' in 0.22. Specify the multi_class option to silence this warning.\n",
      "  \"this warning.\", FutureWarning)\n"
     ]
    },
    {
     "data": {
      "text/plain": [
       "GridSearchCV(cv=5, error_score='raise-deprecating',\n",
       "             estimator=StackingCVClassifier(classifiers=[Pipeline(memory=None,\n",
       "                                                                  steps=[('standardscaler',\n",
       "                                                                          StandardScaler(copy=True,\n",
       "                                                                                         with_mean=True,\n",
       "                                                                                         with_std=True)),\n",
       "                                                                         ('randomforestclassifier',\n",
       "                                                                          RandomForestClassifier(bootstrap=True,\n",
       "                                                                                                 class_weight=None,\n",
       "                                                                                                 criterion='gini',\n",
       "                                                                                                 max_depth=34,\n",
       "                                                                                                 max_features=56,\n",
       "                                                                                                 max_leaf_nodes=None,\n",
       "                                                                                                 min_im...\n",
       "                                                                               warm_start=False),\n",
       "                                            n_jobs=None,\n",
       "                                            pre_dispatch='2*n_jobs',\n",
       "                                            random_state=1000, shuffle=True,\n",
       "                                            store_train_meta_features=False,\n",
       "                                            stratify=True, use_clones=True,\n",
       "                                            use_features_in_secondary=False,\n",
       "                                            use_probas=True, verbose=0),\n",
       "             iid='warn', n_jobs=None,\n",
       "             param_grid={'meta_classifier__C': [1000, 10000]},\n",
       "             pre_dispatch='2*n_jobs', refit=True, return_train_score=False,\n",
       "             scoring=None, verbose=0)"
      ]
     },
     "execution_count": 27,
     "metadata": {},
     "output_type": "execute_result"
    }
   ],
   "source": [
    "gscv3.fit(X_train, y_train)"
   ]
  },
  {
   "cell_type": "code",
   "execution_count": 28,
   "metadata": {
    "hidden": true
   },
   "outputs": [
    {
     "name": "stdout",
     "output_type": "stream",
     "text": [
      "Finished training SCLF with grid search CV 3. Saving model...\n",
      "All \n",
      "Best params: {'meta_classifier__C': 1000}\n",
      "Best Micro F1 score: 0.655\n",
      "Summary of CV_results: dict_keys(['mean_fit_time', 'std_fit_time', 'mean_score_time', 'std_score_time', 'param_meta_classifier__C', 'params', 'split0_test_score', 'split1_test_score', 'split2_test_score', 'split3_test_score', 'split4_test_score', 'mean_test_score', 'std_test_score', 'rank_test_score'])\n"
     ]
    }
   ],
   "source": [
    "print(\"Finished training SCLF with grid search CV 3. Saving model...\")\n",
    "print(\"All \")\n",
    "print(\"Best params: {}\".format(gscv3.best_params_))\n",
    "print(\"Best Micro F1 score: {}\".format(gscv3.best_score_))\n",
    "print(\"Summary of CV_results: {}\".format(gscv3.cv_results_.keys()))\n",
    "    \n",
    "save_cv(gscv3.cv_results_, os.path.join(ROOT_PATH, \"results\", \"sclf_grid3.csv\"))"
   ]
  },
  {
   "cell_type": "code",
   "execution_count": 29,
   "metadata": {
    "hidden": true
   },
   "outputs": [
    {
     "name": "stdout",
     "output_type": "stream",
     "text": [
      "Micro F1 score(Stacking): 0.6415716971720195\n"
     ]
    }
   ],
   "source": [
    "best_sclf = gscv3.best_estimator_\n",
    "y_pred = best_sclf.predict(X_test)\n",
    "print(\"Micro F1 score(Stacking): {}\".format(f1_score(y_test, y_pred, average='micro', labels=[1, 2, 3])))"
   ]
  },
  {
   "cell_type": "code",
   "execution_count": 30,
   "metadata": {
    "hidden": true
   },
   "outputs": [
    {
     "name": "stdout",
     "output_type": "stream",
     "text": [
      "Micro F1 score(Stacking): 0.6415716971720195\n"
     ]
    }
   ],
   "source": [
    "with open(os.path.join(ROOT_PATH, \"results\", 'sclf_output.txt'), 'a+') as fp:\n",
    "    print(\"Finished training SVC with grid search CV 3. Saving model...\", file=fp)\n",
    "    print(\"All \", file=fp)\n",
    "    print(\"Best params: {}\".format(gscv3.best_params_), file=fp)\n",
    "    print(\"Best Micro F1 score: {}\".format(gscv3.best_score_), file=fp)\n",
    "    print(\"Summary of CV_results: {}\".format(gscv3.cv_results_.keys()), file=fp)\n",
    "    best_sclf = gscv3.best_estimator_\n",
    "    y_pred = best_sclf.predict(X_test)\n",
    "    print(\"Micro F1 score(Stacking): {}\".format(f1_score(y_test, y_pred, average='micro', labels=[1, 2, 3])))"
   ]
  },
  {
   "cell_type": "markdown",
   "metadata": {
    "hidden": true
   },
   "source": [
    "### Save tuned model"
   ]
  },
  {
   "cell_type": "code",
   "execution_count": 31,
   "metadata": {
    "hidden": true
   },
   "outputs": [
    {
     "data": {
      "text/plain": [
       "['models/sclf.joblib']"
      ]
     },
     "execution_count": 31,
     "metadata": {},
     "output_type": "execute_result"
    }
   ],
   "source": [
    "from joblib import dump\n",
    "\n",
    "dump(best_sclf, os.path.join('models', 'sclf.joblib'))"
   ]
  },
  {
   "cell_type": "markdown",
   "metadata": {
    "heading_collapsed": true
   },
   "source": [
    "## Try out new models to stack"
   ]
  },
  {
   "cell_type": "code",
   "execution_count": 41,
   "metadata": {
    "hidden": true
   },
   "outputs": [],
   "source": [
    "from joblib import load\n",
    "import os\n",
    "\n",
    "sclf = load(os.path.join('models', 'sclf.joblib'))\n",
    "print(sclf)"
   ]
  },
  {
   "cell_type": "code",
   "execution_count": 42,
   "metadata": {
    "hidden": true
   },
   "outputs": [],
   "source": [
    "class PreprocessorXGB2(BaseEstimator, TransformerMixin):\n",
    "    def __init__(self, columns):\n",
    "        self.columns = columns\n",
    "        pass\n",
    "    \n",
    "    def transform(self, X, *_):\n",
    "        new_X = self._preprocess_input(X)\n",
    "        return new_X\n",
    "    \n",
    "    def fit(self, X, *_):\n",
    "        return self\n",
    "    \n",
    "    def _preprocess_input(self, X):\n",
    "        df_X = pd.DataFrame(X, columns=self.columns)\n",
    "        features_sec_use = [col for col in df_X.columns if 'has_secondary_use_' in col]\n",
    "        df_X['has_secondary_uses'] = df_X[features_sec_use[0]]\n",
    "        for i in range(1, len(features_sec_use)):\n",
    "            df_X['has_secondary_uses'] |= df_X[features_sec_use[i]]\n",
    "        df_X.drop(columns=['has_secondary_use'], inplace=True)\n",
    "        # Turn all category features into multiple one-hot features\n",
    "        df_X = pd.get_dummies(df_X)\n",
    "        return df_X.values"
   ]
  },
  {
   "cell_type": "code",
   "execution_count": 43,
   "metadata": {
    "hidden": true
   },
   "outputs": [],
   "source": [
    "class PreprocessorXGB3(BaseEstimator, TransformerMixin):\n",
    "    def __init__(self, columns):\n",
    "        self.columns = columns\n",
    "        pass\n",
    "    \n",
    "    def transform(self, X, *_):\n",
    "        new_X = self._preprocess_input(X)\n",
    "        return new_X\n",
    "    \n",
    "    def fit(self, X, *_):\n",
    "        return self\n",
    "    \n",
    "    def _preprocess_input(self, X):\n",
    "        df_X = pd.DataFrame(X, columns=self.columns)\n",
    "        # Commented means not good\n",
    "        #     df['area_height_ratio'] = df['area_percentage'] / df['height_percentage']\n",
    "        df_X['count_floors_height_ratio'] = df_X['count_floors_pre_eq'] / df_X['height_percentage']\n",
    "        #     df['age_count_floors_pre_eq_ratio'] = df['age'] / df['count_floors_pre_eq']\n",
    "        df_X = pd.get_dummies(df_X)\n",
    "        return df_X.values"
   ]
  },
  {
   "cell_type": "markdown",
   "metadata": {
    "heading_collapsed": true,
    "hidden": true
   },
   "source": [
    "### Test stacking(combined_secondary)"
   ]
  },
  {
   "cell_type": "code",
   "execution_count": 44,
   "metadata": {
    "hidden": true
   },
   "outputs": [],
   "source": [
    "rfpipe = sclf.clfs_[0]\n",
    "lrpipe = sclf.clfs_[1]\n",
    "meta_clf = sclf.meta_clf_\n",
    "\n",
    "xgb1 = xgb.XGBClassifier(random_state=2000, n_jobs=15, reg_lambda=0, learning_rate=0.2, objective='multi:softmax',\n",
    "                       max_depth=10, subsample=0.8, colsample_bytree=0.8, min_child_weight=3, reg_alpha=1, n_estimators=200)\n",
    "xgbpipe = make_pipeline(PreprocessorXGB2(X_train.columns), StandardScaler(), xgb1)\n",
    "\n",
    "RANDOM_SEED = 1000\n",
    "new_sclf = StackingCVClassifier(classifiers=[rfpipe, lrpipe, xgbpipe],\n",
    "                           meta_classifier=meta_clf,\n",
    "                           random_state = RANDOM_SEED, use_probas=True)\n",
    "print(new_sclf)"
   ]
  },
  {
   "cell_type": "code",
   "execution_count": 45,
   "metadata": {
    "hidden": true,
    "scrolled": false
   },
   "outputs": [
    {
     "name": "stderr",
     "output_type": "stream",
     "text": [
      "/home/tenvinc/.local/lib/python3.6/site-packages/sklearn/linear_model/logistic.py:432: FutureWarning: Default solver will be changed to 'lbfgs' in 0.22. Specify a solver to silence this warning.\n",
      "  FutureWarning)\n",
      "/home/tenvinc/.local/lib/python3.6/site-packages/sklearn/linear_model/logistic.py:469: FutureWarning: Default multi_class will be changed to 'auto' in 0.22. Specify the multi_class option to silence this warning.\n",
      "  \"this warning.\", FutureWarning)\n",
      "/home/tenvinc/.local/lib/python3.6/site-packages/sklearn/linear_model/logistic.py:432: FutureWarning: Default solver will be changed to 'lbfgs' in 0.22. Specify a solver to silence this warning.\n",
      "  FutureWarning)\n",
      "/home/tenvinc/.local/lib/python3.6/site-packages/sklearn/linear_model/logistic.py:469: FutureWarning: Default multi_class will be changed to 'auto' in 0.22. Specify the multi_class option to silence this warning.\n",
      "  \"this warning.\", FutureWarning)\n",
      "/home/tenvinc/.local/lib/python3.6/site-packages/sklearn/linear_model/logistic.py:432: FutureWarning: Default solver will be changed to 'lbfgs' in 0.22. Specify a solver to silence this warning.\n",
      "  FutureWarning)\n",
      "/home/tenvinc/.local/lib/python3.6/site-packages/sklearn/linear_model/logistic.py:469: FutureWarning: Default multi_class will be changed to 'auto' in 0.22. Specify the multi_class option to silence this warning.\n",
      "  \"this warning.\", FutureWarning)\n",
      "/home/tenvinc/.local/lib/python3.6/site-packages/sklearn/linear_model/logistic.py:432: FutureWarning: Default solver will be changed to 'lbfgs' in 0.22. Specify a solver to silence this warning.\n",
      "  FutureWarning)\n",
      "/home/tenvinc/.local/lib/python3.6/site-packages/sklearn/linear_model/logistic.py:469: FutureWarning: Default multi_class will be changed to 'auto' in 0.22. Specify the multi_class option to silence this warning.\n",
      "  \"this warning.\", FutureWarning)\n",
      "/home/tenvinc/.local/lib/python3.6/site-packages/sklearn/linear_model/logistic.py:432: FutureWarning: Default solver will be changed to 'lbfgs' in 0.22. Specify a solver to silence this warning.\n",
      "  FutureWarning)\n",
      "/home/tenvinc/.local/lib/python3.6/site-packages/sklearn/linear_model/logistic.py:469: FutureWarning: Default multi_class will be changed to 'auto' in 0.22. Specify the multi_class option to silence this warning.\n",
      "  \"this warning.\", FutureWarning)\n"
     ]
    }
   ],
   "source": [
    "scores = cross_val_score(new_sclf, X_train, y_train, \n",
    "                                              cv=5, scoring='f1_micro')"
   ]
  },
  {
   "cell_type": "code",
   "execution_count": 46,
   "metadata": {
    "hidden": true
   },
   "outputs": [],
   "source": [
    "import sys\n",
    "fp = open(os.path.join(ROOT_PATH, \"results\", 'sclf_results.txt'), 'a+')\n",
    "original = sys.stdout\n",
    "sys.stdout = fp\n",
    "print('SCLF with XGB(combined_secondaries)')\n",
    "print(\"F1-score: %0.4f (+/- %0.4f)\" \n",
    "      % (scores.mean(), scores.std()))\n",
    "print(\"************************************************************************************\")\n",
    "sys.stdout = original\n",
    "fp.close()\n",
    "# print(\"Finish writing to sclf_results.txt\")"
   ]
  },
  {
   "cell_type": "code",
   "execution_count": 47,
   "metadata": {
    "hidden": true
   },
   "outputs": [
    {
     "data": {
      "text/plain": [
       "['models/sclf2.joblib']"
      ]
     },
     "execution_count": 47,
     "metadata": {},
     "output_type": "execute_result"
    }
   ],
   "source": [
    "from joblib import load, dump\n",
    "import os\n",
    "\n",
    "dump(new_sclf, os.path.join('models', 'sclf2.joblib'))"
   ]
  },
  {
   "cell_type": "markdown",
   "metadata": {
    "heading_collapsed": true,
    "hidden": true
   },
   "source": [
    "### Test stacking(make_ratio)"
   ]
  },
  {
   "cell_type": "code",
   "execution_count": 48,
   "metadata": {
    "hidden": true
   },
   "outputs": [],
   "source": [
    "rfpipe = sclf.clfs_[0]\n",
    "lrpipe = sclf.clfs_[1]\n",
    "meta_clf = sclf.meta_clf_\n",
    "\n",
    "xgb2 = xgb.XGBClassifier(random_state=2000, n_jobs=15, reg_lambda=0, learning_rate=0.2, objective='multi:softmax',\n",
    "                       max_depth=10, subsample=0.8, colsample_bytree=0.8, min_child_weight=3, reg_alpha=1, n_estimators=200)\n",
    "xgbpipe2 = make_pipeline(PreprocessorXGB3(X_train.columns), StandardScaler(), xgb2)\n",
    "\n",
    "RANDOM_SEED = 1000\n",
    "new_sclf2 = StackingCVClassifier(classifiers=[rfpipe, lrpipe, xgbpipe2],\n",
    "                           meta_classifier=meta_clf,\n",
    "                           random_state = RANDOM_SEED, use_probas=True)\n",
    "print(new_sclf2)"
   ]
  },
  {
   "cell_type": "code",
   "execution_count": 49,
   "metadata": {
    "hidden": true,
    "scrolled": true
   },
   "outputs": [
    {
     "name": "stderr",
     "output_type": "stream",
     "text": [
      "/home/tenvinc/.local/lib/python3.6/site-packages/sklearn/linear_model/logistic.py:432: FutureWarning: Default solver will be changed to 'lbfgs' in 0.22. Specify a solver to silence this warning.\n",
      "  FutureWarning)\n",
      "/home/tenvinc/.local/lib/python3.6/site-packages/sklearn/linear_model/logistic.py:469: FutureWarning: Default multi_class will be changed to 'auto' in 0.22. Specify the multi_class option to silence this warning.\n",
      "  \"this warning.\", FutureWarning)\n",
      "/home/tenvinc/.local/lib/python3.6/site-packages/sklearn/linear_model/logistic.py:432: FutureWarning: Default solver will be changed to 'lbfgs' in 0.22. Specify a solver to silence this warning.\n",
      "  FutureWarning)\n",
      "/home/tenvinc/.local/lib/python3.6/site-packages/sklearn/linear_model/logistic.py:469: FutureWarning: Default multi_class will be changed to 'auto' in 0.22. Specify the multi_class option to silence this warning.\n",
      "  \"this warning.\", FutureWarning)\n",
      "/home/tenvinc/.local/lib/python3.6/site-packages/sklearn/linear_model/logistic.py:432: FutureWarning: Default solver will be changed to 'lbfgs' in 0.22. Specify a solver to silence this warning.\n",
      "  FutureWarning)\n",
      "/home/tenvinc/.local/lib/python3.6/site-packages/sklearn/linear_model/logistic.py:469: FutureWarning: Default multi_class will be changed to 'auto' in 0.22. Specify the multi_class option to silence this warning.\n",
      "  \"this warning.\", FutureWarning)\n",
      "/home/tenvinc/.local/lib/python3.6/site-packages/sklearn/linear_model/logistic.py:432: FutureWarning: Default solver will be changed to 'lbfgs' in 0.22. Specify a solver to silence this warning.\n",
      "  FutureWarning)\n",
      "/home/tenvinc/.local/lib/python3.6/site-packages/sklearn/linear_model/logistic.py:469: FutureWarning: Default multi_class will be changed to 'auto' in 0.22. Specify the multi_class option to silence this warning.\n",
      "  \"this warning.\", FutureWarning)\n",
      "/home/tenvinc/.local/lib/python3.6/site-packages/sklearn/linear_model/logistic.py:432: FutureWarning: Default solver will be changed to 'lbfgs' in 0.22. Specify a solver to silence this warning.\n",
      "  FutureWarning)\n",
      "/home/tenvinc/.local/lib/python3.6/site-packages/sklearn/linear_model/logistic.py:469: FutureWarning: Default multi_class will be changed to 'auto' in 0.22. Specify the multi_class option to silence this warning.\n",
      "  \"this warning.\", FutureWarning)\n"
     ]
    }
   ],
   "source": [
    "scores = cross_val_score(new_sclf2, X_train, y_train, \n",
    "                                              cv=5, scoring='f1_micro')"
   ]
  },
  {
   "cell_type": "code",
   "execution_count": 52,
   "metadata": {
    "hidden": true
   },
   "outputs": [],
   "source": [
    "import sys\n",
    "fp = open(os.path.join(ROOT_PATH, \"results\", 'sclf_results.txt'), 'a+')\n",
    "original = sys.stdout\n",
    "sys.stdout = fp\n",
    "print('SCLF with XGB(make_ratio)')\n",
    "print(\"F1-score: %0.3f (+/- %0.3f)\" \n",
    "      % (scores.mean(), scores.std()))\n",
    "print(\"************************************************************************************\")\n",
    "sys.stdout = original\n",
    "fp.close()\n",
    "print(\"Finish writing to sclf_results.txt\")"
   ]
  },
  {
   "cell_type": "code",
   "execution_count": 54,
   "metadata": {
    "hidden": true,
    "scrolled": true
   },
   "outputs": [
    {
     "name": "stderr",
     "output_type": "stream",
     "text": [
      "/home/tenvinc/.local/lib/python3.6/site-packages/sklearn/linear_model/logistic.py:432: FutureWarning: Default solver will be changed to 'lbfgs' in 0.22. Specify a solver to silence this warning.\n",
      "  FutureWarning)\n",
      "/home/tenvinc/.local/lib/python3.6/site-packages/sklearn/linear_model/logistic.py:469: FutureWarning: Default multi_class will be changed to 'auto' in 0.22. Specify the multi_class option to silence this warning.\n",
      "  \"this warning.\", FutureWarning)\n"
     ]
    },
    {
     "data": {
      "text/plain": [
       "StackingCVClassifier(classifiers=[Pipeline(memory=None,\n",
       "                                           steps=[('standardscaler',\n",
       "                                                   StandardScaler(copy=True,\n",
       "                                                                  with_mean=True,\n",
       "                                                                  with_std=True)),\n",
       "                                                  ('randomforestclassifier',\n",
       "                                                   RandomForestClassifier(bootstrap=True,\n",
       "                                                                          class_weight=None,\n",
       "                                                                          criterion='gini',\n",
       "                                                                          max_depth=34,\n",
       "                                                                          max_features=56,\n",
       "                                                                          max_leaf_nodes=None,\n",
       "                                                                          min_impurity_decrease=0.0,\n",
       "                                                                          min_impurity_split=None,\n",
       "                                                                          min_samples_leaf...\n",
       "                                                        fit_intercept=True,\n",
       "                                                        intercept_scaling=1,\n",
       "                                                        l1_ratio=None,\n",
       "                                                        max_iter=100,\n",
       "                                                        multi_class='warn',\n",
       "                                                        n_jobs=None,\n",
       "                                                        penalty='l2',\n",
       "                                                        random_state=1000,\n",
       "                                                        solver='warn',\n",
       "                                                        tol=0.0001, verbose=0,\n",
       "                                                        warm_start=False),\n",
       "                     n_jobs=None, pre_dispatch='2*n_jobs', random_state=1000,\n",
       "                     shuffle=True, store_train_meta_features=False,\n",
       "                     stratify=True, use_clones=True,\n",
       "                     use_features_in_secondary=False, use_probas=True,\n",
       "                     verbose=0)"
      ]
     },
     "execution_count": 54,
     "metadata": {},
     "output_type": "execute_result"
    }
   ],
   "source": [
    "new_sclf2.fit(X_train, y_train)"
   ]
  },
  {
   "cell_type": "code",
   "execution_count": 55,
   "metadata": {
    "hidden": true
   },
   "outputs": [],
   "source": [
    "y_pred = new_sclf2.predict(X_test)\n",
    "print('F1-score (micro): {}'.format(f1_score(y_pred, y_test, average='micro')))"
   ]
  },
  {
   "cell_type": "code",
   "execution_count": 56,
   "metadata": {
    "hidden": true
   },
   "outputs": [
    {
     "data": {
      "text/plain": [
       "['models/sclf3.joblib']"
      ]
     },
     "execution_count": 56,
     "metadata": {},
     "output_type": "execute_result"
    }
   ],
   "source": [
    "from joblib import load\n",
    "import os\n",
    "\n",
    "dump(new_sclf2, os.path.join('models', 'sclf3.joblib'))"
   ]
  },
  {
   "cell_type": "markdown",
   "metadata": {
    "hidden": true
   },
   "source": [
    "### Test stacking(improved rf)"
   ]
  },
  {
   "cell_type": "code",
   "execution_count": 57,
   "metadata": {
    "hidden": true
   },
   "outputs": [],
   "source": [
    "from joblib import load\n",
    "import os\n",
    "\n",
    "sclf = load(os.path.join('models', 'sclf3.joblib'))\n",
    "rf_clf = load(os.path.join('models', 'rfv2.joblib'))"
   ]
  },
  {
   "cell_type": "code",
   "execution_count": 58,
   "metadata": {
    "hidden": true
   },
   "outputs": [],
   "source": [
    "rfpipe = make_pipeline(StandardScaler(), rf_clf)\n",
    "lrpipe = sclf.clfs_[1]\n",
    "xgbpipe3 = sclf.clfs_[2]\n",
    "meta_clf = sclf.meta_clf_\n",
    "\n",
    "RANDOM_SEED = 1000\n",
    "new_sclf3 = StackingCVClassifier(classifiers=[rfpipe, lrpipe, xgbpipe3],\n",
    "                           meta_classifier=meta_clf,\n",
    "                           random_state = RANDOM_SEED, use_probas=True)\n",
    "print(new_sclf3)"
   ]
  },
  {
   "cell_type": "code",
   "execution_count": 59,
   "metadata": {
    "hidden": true,
    "scrolled": true
   },
   "outputs": [
    {
     "name": "stderr",
     "output_type": "stream",
     "text": [
      "/home/tenvinc/.local/lib/python3.6/site-packages/sklearn/linear_model/logistic.py:432: FutureWarning: Default solver will be changed to 'lbfgs' in 0.22. Specify a solver to silence this warning.\n",
      "  FutureWarning)\n",
      "/home/tenvinc/.local/lib/python3.6/site-packages/sklearn/linear_model/logistic.py:469: FutureWarning: Default multi_class will be changed to 'auto' in 0.22. Specify the multi_class option to silence this warning.\n",
      "  \"this warning.\", FutureWarning)\n",
      "/home/tenvinc/.local/lib/python3.6/site-packages/sklearn/linear_model/logistic.py:432: FutureWarning: Default solver will be changed to 'lbfgs' in 0.22. Specify a solver to silence this warning.\n",
      "  FutureWarning)\n",
      "/home/tenvinc/.local/lib/python3.6/site-packages/sklearn/linear_model/logistic.py:469: FutureWarning: Default multi_class will be changed to 'auto' in 0.22. Specify the multi_class option to silence this warning.\n",
      "  \"this warning.\", FutureWarning)\n",
      "/home/tenvinc/.local/lib/python3.6/site-packages/sklearn/linear_model/logistic.py:432: FutureWarning: Default solver will be changed to 'lbfgs' in 0.22. Specify a solver to silence this warning.\n",
      "  FutureWarning)\n",
      "/home/tenvinc/.local/lib/python3.6/site-packages/sklearn/linear_model/logistic.py:469: FutureWarning: Default multi_class will be changed to 'auto' in 0.22. Specify the multi_class option to silence this warning.\n",
      "  \"this warning.\", FutureWarning)\n",
      "/home/tenvinc/.local/lib/python3.6/site-packages/sklearn/linear_model/logistic.py:432: FutureWarning: Default solver will be changed to 'lbfgs' in 0.22. Specify a solver to silence this warning.\n",
      "  FutureWarning)\n",
      "/home/tenvinc/.local/lib/python3.6/site-packages/sklearn/linear_model/logistic.py:469: FutureWarning: Default multi_class will be changed to 'auto' in 0.22. Specify the multi_class option to silence this warning.\n",
      "  \"this warning.\", FutureWarning)\n",
      "/home/tenvinc/.local/lib/python3.6/site-packages/sklearn/linear_model/logistic.py:432: FutureWarning: Default solver will be changed to 'lbfgs' in 0.22. Specify a solver to silence this warning.\n",
      "  FutureWarning)\n",
      "/home/tenvinc/.local/lib/python3.6/site-packages/sklearn/linear_model/logistic.py:469: FutureWarning: Default multi_class will be changed to 'auto' in 0.22. Specify the multi_class option to silence this warning.\n",
      "  \"this warning.\", FutureWarning)\n"
     ]
    }
   ],
   "source": [
    "scores = cross_val_score(new_sclf3, X_train, y_train, \n",
    "                                              cv=5, scoring='f1_micro')"
   ]
  },
  {
   "cell_type": "code",
   "execution_count": 60,
   "metadata": {
    "hidden": true
   },
   "outputs": [],
   "source": [
    "import sys\n",
    "fp = open(os.path.join(ROOT_PATH, \"results\", 'sclf_results.txt'), 'a+')\n",
    "original = sys.stdout\n",
    "sys.stdout = fp\n",
    "print('SCLF with XGB(improved rf)')\n",
    "print(\"F1-score: %0.7f (+/- %0.7f)\" \n",
    "      % (scores.mean(), scores.std()))\n",
    "print(\"************************************************************************************\")\n",
    "sys.stdout = original\n",
    "fp.close()\n",
    "print(\"Finish writing to sclf_results.txt\")"
   ]
  },
  {
   "cell_type": "code",
   "execution_count": 61,
   "metadata": {
    "hidden": true,
    "scrolled": true
   },
   "outputs": [
    {
     "name": "stderr",
     "output_type": "stream",
     "text": [
      "/home/tenvinc/.local/lib/python3.6/site-packages/sklearn/linear_model/logistic.py:432: FutureWarning: Default solver will be changed to 'lbfgs' in 0.22. Specify a solver to silence this warning.\n",
      "  FutureWarning)\n",
      "/home/tenvinc/.local/lib/python3.6/site-packages/sklearn/linear_model/logistic.py:469: FutureWarning: Default multi_class will be changed to 'auto' in 0.22. Specify the multi_class option to silence this warning.\n",
      "  \"this warning.\", FutureWarning)\n"
     ]
    },
    {
     "data": {
      "text/plain": [
       "StackingCVClassifier(classifiers=[Pipeline(memory=None,\n",
       "                                           steps=[('standardscaler',\n",
       "                                                   StandardScaler(copy=True,\n",
       "                                                                  with_mean=True,\n",
       "                                                                  with_std=True)),\n",
       "                                                  ('pipeline',\n",
       "                                                   Pipeline(memory=None,\n",
       "                                                            steps=[('standardscaler',\n",
       "                                                                    StandardScaler(copy=True,\n",
       "                                                                                   with_mean=True,\n",
       "                                                                                   with_std=True)),\n",
       "                                                                   ('randomforestclassifier',\n",
       "                                                                    RandomForestClassifier(bootstrap=True,\n",
       "                                                                                           class_weight=None,\n",
       "                                                                                           criterion='gini',\n",
       "                                                                                           m...\n",
       "                                                        fit_intercept=True,\n",
       "                                                        intercept_scaling=1,\n",
       "                                                        l1_ratio=None,\n",
       "                                                        max_iter=100,\n",
       "                                                        multi_class='warn',\n",
       "                                                        n_jobs=None,\n",
       "                                                        penalty='l2',\n",
       "                                                        random_state=1000,\n",
       "                                                        solver='warn',\n",
       "                                                        tol=0.0001, verbose=0,\n",
       "                                                        warm_start=False),\n",
       "                     n_jobs=None, pre_dispatch='2*n_jobs', random_state=1000,\n",
       "                     shuffle=True, store_train_meta_features=False,\n",
       "                     stratify=True, use_clones=True,\n",
       "                     use_features_in_secondary=False, use_probas=True,\n",
       "                     verbose=0)"
      ]
     },
     "execution_count": 61,
     "metadata": {},
     "output_type": "execute_result"
    }
   ],
   "source": [
    "new_sclf3.fit(X_train, y_train)"
   ]
  },
  {
   "cell_type": "code",
   "execution_count": 62,
   "metadata": {
    "hidden": true
   },
   "outputs": [],
   "source": [
    "y_pred = new_sclf3.predict(X_test)\n",
    "print('F1-score (micro): {}'.format(f1_score(y_pred, y_test, average='micro')))"
   ]
  },
  {
   "cell_type": "code",
   "execution_count": 63,
   "metadata": {
    "hidden": true
   },
   "outputs": [
    {
     "data": {
      "text/plain": [
       "['models/sclf4.joblib']"
      ]
     },
     "execution_count": 63,
     "metadata": {},
     "output_type": "execute_result"
    }
   ],
   "source": [
    "from joblib import load\n",
    "import os\n",
    "\n",
    "dump(new_sclf3, os.path.join('models', 'sclf4.joblib'))"
   ]
  },
  {
   "cell_type": "markdown",
   "metadata": {
    "hidden": true
   },
   "source": [
    "### Stacking (Min Max scaler)"
   ]
  },
  {
   "cell_type": "code",
   "execution_count": 65,
   "metadata": {
    "hidden": true
   },
   "outputs": [],
   "source": [
    "from joblib import load\n",
    "from sklearn.preprocessing import MinMaxScaler\n",
    "import os\n",
    "from helper import *\n",
    "\n",
    "sclf = load(os.path.join('models', 'sclf4.joblib'))\n",
    "rf_clf = load(os.path.join('models', 'rfv2.joblib'))"
   ]
  },
  {
   "cell_type": "code",
   "execution_count": 68,
   "metadata": {
    "hidden": true
   },
   "outputs": [],
   "source": [
    "rfpipe = make_pipeline(MinMaxScaler(), rf_clf)\n",
    "lrpipe = sclf.clfs_[1]\n",
    "xgbpipe3 = sclf.clfs_[2]\n",
    "# change to min max scaler\n",
    "xgbpipe3.steps[1] = ('minmaxscaler', MinMaxScaler())\n",
    "print(xgbpipe3)\n",
    "meta_clf = sclf.meta_clf_\n",
    "\n",
    "RANDOM_SEED = 1000\n",
    "new_sclf4 = StackingCVClassifier(classifiers=[rfpipe, lrpipe, xgbpipe3],\n",
    "                           meta_classifier=meta_clf,\n",
    "                           random_state = RANDOM_SEED, use_probas=True)\n",
    "print(new_sclf3)"
   ]
  },
  {
   "cell_type": "code",
   "execution_count": 69,
   "metadata": {
    "hidden": true,
    "scrolled": true
   },
   "outputs": [
    {
     "name": "stderr",
     "output_type": "stream",
     "text": [
      "/home/tenvinc/.local/lib/python3.6/site-packages/sklearn/linear_model/logistic.py:432: FutureWarning: Default solver will be changed to 'lbfgs' in 0.22. Specify a solver to silence this warning.\n",
      "  FutureWarning)\n",
      "/home/tenvinc/.local/lib/python3.6/site-packages/sklearn/linear_model/logistic.py:469: FutureWarning: Default multi_class will be changed to 'auto' in 0.22. Specify the multi_class option to silence this warning.\n",
      "  \"this warning.\", FutureWarning)\n",
      "/home/tenvinc/.local/lib/python3.6/site-packages/sklearn/linear_model/logistic.py:432: FutureWarning: Default solver will be changed to 'lbfgs' in 0.22. Specify a solver to silence this warning.\n",
      "  FutureWarning)\n",
      "/home/tenvinc/.local/lib/python3.6/site-packages/sklearn/linear_model/logistic.py:469: FutureWarning: Default multi_class will be changed to 'auto' in 0.22. Specify the multi_class option to silence this warning.\n",
      "  \"this warning.\", FutureWarning)\n",
      "/home/tenvinc/.local/lib/python3.6/site-packages/sklearn/linear_model/logistic.py:432: FutureWarning: Default solver will be changed to 'lbfgs' in 0.22. Specify a solver to silence this warning.\n",
      "  FutureWarning)\n",
      "/home/tenvinc/.local/lib/python3.6/site-packages/sklearn/linear_model/logistic.py:469: FutureWarning: Default multi_class will be changed to 'auto' in 0.22. Specify the multi_class option to silence this warning.\n",
      "  \"this warning.\", FutureWarning)\n",
      "/home/tenvinc/.local/lib/python3.6/site-packages/sklearn/linear_model/logistic.py:432: FutureWarning: Default solver will be changed to 'lbfgs' in 0.22. Specify a solver to silence this warning.\n",
      "  FutureWarning)\n",
      "/home/tenvinc/.local/lib/python3.6/site-packages/sklearn/linear_model/logistic.py:469: FutureWarning: Default multi_class will be changed to 'auto' in 0.22. Specify the multi_class option to silence this warning.\n",
      "  \"this warning.\", FutureWarning)\n",
      "/home/tenvinc/.local/lib/python3.6/site-packages/sklearn/linear_model/logistic.py:432: FutureWarning: Default solver will be changed to 'lbfgs' in 0.22. Specify a solver to silence this warning.\n",
      "  FutureWarning)\n",
      "/home/tenvinc/.local/lib/python3.6/site-packages/sklearn/linear_model/logistic.py:469: FutureWarning: Default multi_class will be changed to 'auto' in 0.22. Specify the multi_class option to silence this warning.\n",
      "  \"this warning.\", FutureWarning)\n"
     ]
    }
   ],
   "source": [
    "scores = cross_val_score(new_sclf4, X_train, y_train, \n",
    "                                              cv=5, scoring='f1_micro')"
   ]
  },
  {
   "cell_type": "code",
   "execution_count": 70,
   "metadata": {
    "hidden": true
   },
   "outputs": [],
   "source": [
    "import sys\n",
    "fp = open(os.path.join(ROOT_PATH, \"results\", 'sclf_results.txt'), 'a+')\n",
    "original = sys.stdout\n",
    "sys.stdout = fp\n",
    "print('SCLF with XGB(min max)')\n",
    "print(\"F1-score: %0.7f (+/- %0.7f)\" \n",
    "      % (scores.mean(), scores.std()))\n",
    "print(\"************************************************************************************\")\n",
    "sys.stdout = original\n",
    "fp.close()\n",
    "print(\"Finish writing to sclf_results.txt\")"
   ]
  },
  {
   "cell_type": "code",
   "execution_count": 71,
   "metadata": {
    "hidden": true,
    "scrolled": true
   },
   "outputs": [
    {
     "name": "stderr",
     "output_type": "stream",
     "text": [
      "/home/tenvinc/.local/lib/python3.6/site-packages/sklearn/linear_model/logistic.py:432: FutureWarning: Default solver will be changed to 'lbfgs' in 0.22. Specify a solver to silence this warning.\n",
      "  FutureWarning)\n",
      "/home/tenvinc/.local/lib/python3.6/site-packages/sklearn/linear_model/logistic.py:469: FutureWarning: Default multi_class will be changed to 'auto' in 0.22. Specify the multi_class option to silence this warning.\n",
      "  \"this warning.\", FutureWarning)\n"
     ]
    },
    {
     "data": {
      "text/plain": [
       "StackingCVClassifier(classifiers=[Pipeline(memory=None,\n",
       "                                           steps=[('minmaxscaler',\n",
       "                                                   MinMaxScaler(copy=True,\n",
       "                                                                feature_range=(0,\n",
       "                                                                               1))),\n",
       "                                                  ('pipeline',\n",
       "                                                   Pipeline(memory=None,\n",
       "                                                            steps=[('standardscaler',\n",
       "                                                                    StandardScaler(copy=True,\n",
       "                                                                                   with_mean=True,\n",
       "                                                                                   with_std=True)),\n",
       "                                                                   ('randomforestclassifier',\n",
       "                                                                    RandomForestClassifier(bootstrap=True,\n",
       "                                                                                           class_weight=None,\n",
       "                                                                                           criterion='gini',\n",
       "                                                                                           max_depth=42,\n",
       "                                                                                           m...\n",
       "                                                        fit_intercept=True,\n",
       "                                                        intercept_scaling=1,\n",
       "                                                        l1_ratio=None,\n",
       "                                                        max_iter=100,\n",
       "                                                        multi_class='warn',\n",
       "                                                        n_jobs=None,\n",
       "                                                        penalty='l2',\n",
       "                                                        random_state=1000,\n",
       "                                                        solver='warn',\n",
       "                                                        tol=0.0001, verbose=0,\n",
       "                                                        warm_start=False),\n",
       "                     n_jobs=None, pre_dispatch='2*n_jobs', random_state=1000,\n",
       "                     shuffle=True, store_train_meta_features=False,\n",
       "                     stratify=True, use_clones=True,\n",
       "                     use_features_in_secondary=False, use_probas=True,\n",
       "                     verbose=0)"
      ]
     },
     "execution_count": 71,
     "metadata": {},
     "output_type": "execute_result"
    }
   ],
   "source": [
    "new_sclf4.fit(X_train, y_train)"
   ]
  },
  {
   "cell_type": "code",
   "execution_count": 73,
   "metadata": {
    "hidden": true
   },
   "outputs": [],
   "source": [
    "y_pred = new_sclf4.predict(X_test)\n",
    "print('F1-score (micro): {}'.format(f1_score(y_pred, y_test, average='micro')))"
   ]
  },
  {
   "cell_type": "code",
   "execution_count": 74,
   "metadata": {
    "hidden": true
   },
   "outputs": [
    {
     "data": {
      "text/plain": [
       "['models/sclf5.joblib']"
      ]
     },
     "execution_count": 74,
     "metadata": {},
     "output_type": "execute_result"
    }
   ],
   "source": [
    "from joblib import load, dump\n",
    "import os\n",
    "\n",
    "dump(new_sclf4, os.path.join('models', 'sclf5.joblib'))"
   ]
  },
  {
   "cell_type": "markdown",
   "metadata": {},
   "source": [
    "# Generating charts for report"
   ]
  },
  {
   "cell_type": "code",
   "execution_count": 77,
   "metadata": {},
   "outputs": [],
   "source": [
    "import sklearn\n",
    "from sklearn.decomposition import PCA\n",
    "from sklearn.preprocessing import StandardScaler, OneHotEncoder, MinMaxScaler\n",
    "from sklearn.svm import SVC, LinearSVC\n",
    "from sklearn.linear_model import SGDClassifier, LogisticRegression\n",
    "from sklearn.kernel_approximation import Nystroem\n",
    "from sklearn.pipeline import make_pipeline, Pipeline, FeatureUnion\n",
    "from sklearn.metrics import confusion_matrix, f1_score, roc_auc_score\n",
    "from sklearn.model_selection import GridSearchCV, KFold, cross_validate, cross_val_score\n",
    "from sklearn.base import BaseEstimator, TransformerMixin\n",
    "from sklearn.ensemble import GradientBoostingClassifier, BaggingClassifier, RandomForestClassifier\n",
    "from sklearn.utils.multiclass import unique_labels\n",
    "from mlxtend.classifier import StackingCVClassifier\n",
    "from sklearn.feature_selection import VarianceThreshold\n",
    "import xgboost as xgb\n",
    "import os\n",
    "import math\n",
    "import pandas as pd\n",
    "from joblib import dump, load\n",
    "import numpy as np\n",
    "import seaborn as sns\n",
    "import matplotlib.pyplot as plt\n",
    "from helper import *"
   ]
  },
  {
   "cell_type": "code",
   "execution_count": 78,
   "metadata": {},
   "outputs": [],
   "source": [
    "ROOT_PATH = '.'"
   ]
  },
  {
   "cell_type": "code",
   "execution_count": 79,
   "metadata": {},
   "outputs": [],
   "source": [
    "X_train = pd.read_csv(os.path.join(ROOT_PATH, \"data\", \"split_train_values.csv\"))\n",
    "y_train = pd.read_csv(os.path.join(ROOT_PATH, \"data\", \"split_train_labels.csv\")).iloc[:,0]\n",
    "X_test = pd.read_csv(os.path.join(ROOT_PATH, \"data\", \"split_test_values.csv\"))\n",
    "y_test = pd.read_csv(os.path.join(ROOT_PATH, \"data\",  \"split_test_labels.csv\")).iloc[:,0]\n",
    "\n",
    "X_train = pd.get_dummies(X_train)\n",
    "X_test = pd.get_dummies(X_test)"
   ]
  },
  {
   "cell_type": "code",
   "execution_count": 80,
   "metadata": {
    "scrolled": true
   },
   "outputs": [],
   "source": [
    "best_sclf = load(os.path.join(\"models\", \"sclf4.joblib\"))\n",
    "print(best_sclf)"
   ]
  },
  {
   "cell_type": "code",
   "execution_count": 81,
   "metadata": {},
   "outputs": [
    {
     "data": {
      "text/plain": [
       "<matplotlib.axes._subplots.AxesSubplot at 0x7fd0fcd56a20>"
      ]
     },
     "execution_count": 81,
     "metadata": {},
     "output_type": "execute_result"
    },
    {
     "data": {
      "image/png": "[encoded data removed]",
      "text/plain": [
       "<Figure size 432x288 with 2 Axes>"
      ]
     },
     "metadata": {
      "needs_background": "light"
     },
     "output_type": "display_data"
    }
   ],
   "source": [
    "y_pred = best_sclf.predict(X_test)\n",
    "cm = confusion_matrix(y_test, y_pred)\n",
    "classes = np.asarray(['Grade 1', 'Grade 2', 'Grade 3'])\n",
    "\n",
    "plot_confusion_matrix(y_test, y_pred, classes,\n",
    "                          normalize=True,\n",
    "                          title='Confusion matrix of 3-class classification (Stacking)',\n",
    "                          cmap='Oranges')"
   ]
  },
  {
   "cell_type": "code",
   "execution_count": 82,
   "metadata": {},
   "outputs": [
    {
     "data": {
      "image/png": "[encoded data removed]",
      "text/plain": [
       "<Figure size 432x288 with 2 Axes>"
      ]
     },
     "metadata": {
      "needs_background": "light"
     },
     "output_type": "display_data"
    }
   ],
   "source": [
    "rf_clf = best_sclf.classifiers[0]\n",
    "rf_clf.fit(X_train, y_train)\n",
    "\n",
    "y_pred = rf_clf.predict(X_test)\n",
    "\n",
    "\n",
    "cm = confusion_matrix(y_test, y_pred)\n",
    "classes = np.asarray(['Grade 1', 'Grade 2', 'Grade 3'])\n",
    "\n",
    "plot_confusion_matrix(y_test, y_pred, classes,\n",
    "                          normalize=True,\n",
    "                          title='Confusion matrix of 3-class classification (Random Forest)',\n",
    "                          cmap='Oranges')\n",
    "print(\"F1-score: {}\".format(f1_score(y_test, y_pred, average='micro')))"
   ]
  },
  {
   "cell_type": "code",
   "execution_count": 83,
   "metadata": {},
   "outputs": [
    {
     "data": {
      "image/png": "[encoded data removed]",
      "text/plain": [
       "<Figure size 432x288 with 2 Axes>"
      ]
     },
     "metadata": {
      "needs_background": "light"
     },
     "output_type": "display_data"
    }
   ],
   "source": [
    "lr_clf = best_sclf.classifiers[1]\n",
    "lr_clf.fit(X_train, y_train)\n",
    "\n",
    "y_pred = lr_clf.predict(X_test)\n",
    "\n",
    "\n",
    "cm = confusion_matrix(y_test, y_pred)\n",
    "classes = np.asarray(['Grade 1', 'Grade 2', 'Grade 3'])\n",
    "\n",
    "plot_confusion_matrix(y_test, y_pred, classes,\n",
    "                          normalize=True,\n",
    "                          title='Confusion matrix of 3-class classification (Logistic Regression)',\n",
    "                          cmap='Oranges')\n",
    "print(\"F1-score: {}\".format(f1_score(y_test, y_pred, average='micro')))"
   ]
  },
  {
   "cell_type": "code",
   "execution_count": 84,
   "metadata": {},
   "outputs": [],
   "source": [
    "weights = round(y_train.value_counts().max()/y_train.value_counts()).astype(int)\n",
    "print(y_train.value_counts())\n",
    "weight_dict = {2: 1, 3: 2, 1: 6}"
   ]
  },
  {
   "cell_type": "code",
   "execution_count": 85,
   "metadata": {},
   "outputs": [],
   "source": [
    "rf_clf = best_sclf.classifiers[0]\n",
    "rf_clf.set_params(pipeline__randomforestclassifier__class_weight=weight_dict)\n",
    "rf_clf.fit(X_train, y_train)\n",
    "\n",
    "y_pred = rf_clf.predict(X_test)\n",
    "\n",
    "cm = confusion_matrix(y_test, y_pred)\n",
    "classes = np.asarray(['Grade 1', 'Grade 2', 'Grade 3'])"
   ]
  },
  {
   "cell_type": "code",
   "execution_count": 86,
   "metadata": {
    "scrolled": false
   },
   "outputs": [
    {
     "data": {
      "image/png": "[encoded data removed]",
      "text/plain": [
       "<Figure size 432x288 with 2 Axes>"
      ]
     },
     "metadata": {
      "needs_background": "light"
     },
     "output_type": "display_data"
    }
   ],
   "source": [
    "plot_confusion_matrix(y_test, y_pred, classes,\n",
    "                          normalize=True,\n",
    "                          title='Confusion matrix of 3-class classification (RandomForest)',\n",
    "                          cmap='Oranges')\n",
    "print(\"F1-score: {}\".format(f1_score(y_test, y_pred, average='micro')))"
   ]
  },
  {
   "cell_type": "code",
   "execution_count": 87,
   "metadata": {},
   "outputs": [],
   "source": [
    "lr_clf = best_sclf.classifiers[1]\n",
    "lr_clf.set_params(logisticregression__class_weight=weight_dict)\n",
    "lr_clf.fit(X_train, y_train)\n",
    "\n",
    "y_pred = lr_clf.predict(X_test)\n",
    "\n",
    "cm = confusion_matrix(y_test, y_pred)\n",
    "classes = np.asarray(['Grade 1', 'Grade 2', 'Grade 3'])"
   ]
  },
  {
   "cell_type": "code",
   "execution_count": 88,
   "metadata": {},
   "outputs": [
    {
     "data": {
      "image/png": "[encoded data removed]",
      "text/plain": [
       "<Figure size 432x288 with 2 Axes>"
      ]
     },
     "metadata": {
      "needs_background": "light"
     },
     "output_type": "display_data"
    }
   ],
   "source": [
    "plot_confusion_matrix(y_test, y_pred, classes,\n",
    "                          normalize=True,\n",
    "                          title='Confusion matrix of 3-class classification (Logistic Regression)',\n",
    "                          cmap='Oranges')\n",
    "print(\"F1-score: {}\".format(f1_score(y_test, y_pred, average='micro')))"
   ]
  },
  {
   "cell_type": "code",
   "execution_count": 89,
   "metadata": {},
   "outputs": [
    {
     "data": {
      "image/png": "[encoded data removed]",
      "text/plain": [
       "<Figure size 432x288 with 2 Axes>"
      ]
     },
     "metadata": {
      "needs_background": "light"
     },
     "output_type": "display_data"
    }
   ],
   "source": [
    "xgb_clf = best_sclf.classifiers[2]\n",
    "\n",
    "y_pred = xgb_clf.predict(X_test)\n",
    "\n",
    "cm = confusion_matrix(y_test, y_pred)\n",
    "classes = np.asarray(['Grade 1', 'Grade 2', 'Grade 3'])\n",
    "plot_confusion_matrix(y_test, y_pred, classes,\n",
    "                          normalize=True,\n",
    "                          title='Confusion matrix of 3-class classification (XGB tree)',\n",
    "                          cmap='Oranges')\n",
    "print(\"F1-score: {}\".format(f1_score(y_test, y_pred, average='micro')))"
   ]
  },
  {
   "cell_type": "markdown",
   "metadata": {},
   "source": [
    "# References"
   ]
  },
  {
   "cell_type": "markdown",
   "metadata": {},
   "source": [
    "https://blog.statsbot.co/ensemble-learning-d1dcd548e936\n"
   ]
  }
 ],
 "metadata": {
  "file_extension": ".py",
  "kernelspec": {
   "display_name": "Python 3",
   "language": "python",
   "name": "python3"
  },
  "language_info": {
   "codemirror_mode": {
    "name": "ipython",
    "version": 3
   },
   "file_extension": ".py",
   "mimetype": "text/x-python",
   "name": "python",
   "nbconvert_exporter": "python",
   "pygments_lexer": "ipython3",
   "version": "3.6.8"
  },
  "mimetype": "text/x-python",
  "name": "python",
  "npconvert_exporter": "python",
  "pygments_lexer": "ipython3",
  "toc": {
   "base_numbering": 1,
   "nav_menu": {},
   "number_sections": true,
   "sideBar": true,
   "skip_h1_title": false,
   "title_cell": "Table of Contents",
   "title_sidebar": "Contents",
   "toc_cell": false,
   "toc_position": {
    "height": "calc(100% - 180px)",
    "left": "10px",
    "top": "150px",
    "width": "215.594px"
   },
   "toc_section_display": true,
   "toc_window_display": true
  },
  "version": 3
 },
 "nbformat": 4,
 "nbformat_minor": 2
}
